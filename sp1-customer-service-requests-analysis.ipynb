{
 "cells": [
  {
   "cell_type": "code",
   "execution_count": 1,
   "id": "65775a41",
   "metadata": {
    "_cell_guid": "b1076dfc-b9ad-4769-8c92-a6c4dae69d19",
    "_uuid": "8f2839f25d086af736a60e9eeb907d3b93b6e0e5",
    "execution": {
     "iopub.execute_input": "2023-02-06T11:57:50.613571Z",
     "iopub.status.busy": "2023-02-06T11:57:50.612743Z",
     "iopub.status.idle": "2023-02-06T11:57:50.636047Z",
     "shell.execute_reply": "2023-02-06T11:57:50.635089Z"
    },
    "papermill": {
     "duration": 0.040233,
     "end_time": "2023-02-06T11:57:50.639428",
     "exception": false,
     "start_time": "2023-02-06T11:57:50.599195",
     "status": "completed"
    },
    "tags": []
   },
   "outputs": [
    {
     "name": "stdout",
     "output_type": "stream",
     "text": [
      "/kaggle/input/sp1-dataset-customer-service-requests/Customer_Service_Requests_Analysis_Dataset/311-service-requests-nyc/311_Service_Requests_from_2010_to_Present.csv\n"
     ]
    }
   ],
   "source": [
    "# This Python 3 environment comes with many helpful analytics libraries installed\n",
    "# It is defined by the kaggle/python Docker image: https://github.com/kaggle/docker-python\n",
    "# For example, here's several helpful packages to load\n",
    "\n",
    "import numpy as np # linear algebra\n",
    "import pandas as pd # data processing, CSV file I/O (e.g. pd.read_csv)\n",
    "\n",
    "# Input data files are available in the read-only \"../input/\" directory\n",
    "# For example, running this (by clicking run or pressing Shift+Enter) will list all files under the input directory\n",
    "\n",
    "import os\n",
    "for dirname, _, filenames in os.walk('/kaggle/input'):\n",
    "    for filename in filenames:\n",
    "        print(os.path.join(dirname, filename))\n",
    "\n",
    "# You can write up to 20GB to the current directory (/kaggle/working/) that gets preserved as output when you create a version using \"Save & Run All\" \n",
    "# You can also write temporary files to /kaggle/temp/, but they won't be saved outside of the current session"
   ]
  },
  {
   "cell_type": "code",
   "execution_count": 2,
   "id": "554402e4",
   "metadata": {
    "execution": {
     "iopub.execute_input": "2023-02-06T11:57:50.662133Z",
     "iopub.status.busy": "2023-02-06T11:57:50.661136Z",
     "iopub.status.idle": "2023-02-06T11:57:59.606122Z",
     "shell.execute_reply": "2023-02-06T11:57:59.604421Z"
    },
    "papermill": {
     "duration": 8.958986,
     "end_time": "2023-02-06T11:57:59.609393",
     "exception": false,
     "start_time": "2023-02-06T11:57:50.650407",
     "status": "completed"
    },
    "tags": []
   },
   "outputs": [
    {
     "name": "stderr",
     "output_type": "stream",
     "text": [
      "/opt/conda/lib/python3.7/site-packages/IPython/core/interactiveshell.py:3552: DtypeWarning: Columns (48,49) have mixed types.Specify dtype option on import or set low_memory=False.\n",
      "  exec(code_obj, self.user_global_ns, self.user_ns)\n"
     ]
    }
   ],
   "source": [
    "csr = pd.read_csv(\"/kaggle/input/sp1-dataset-customer-service-requests/Customer_Service_Requests_Analysis_Dataset/311-service-requests-nyc/311_Service_Requests_from_2010_to_Present.csv\")"
   ]
  },
  {
   "cell_type": "code",
   "execution_count": 3,
   "id": "594936c5",
   "metadata": {
    "execution": {
     "iopub.execute_input": "2023-02-06T11:57:59.630995Z",
     "iopub.status.busy": "2023-02-06T11:57:59.630208Z",
     "iopub.status.idle": "2023-02-06T11:57:59.675054Z",
     "shell.execute_reply": "2023-02-06T11:57:59.673725Z"
    },
    "papermill": {
     "duration": 0.0586,
     "end_time": "2023-02-06T11:57:59.677607",
     "exception": false,
     "start_time": "2023-02-06T11:57:59.619007",
     "status": "completed"
    },
    "tags": []
   },
   "outputs": [
    {
     "data": {
      "text/html": [
       "<div>\n",
       "<style scoped>\n",
       "    .dataframe tbody tr th:only-of-type {\n",
       "        vertical-align: middle;\n",
       "    }\n",
       "\n",
       "    .dataframe tbody tr th {\n",
       "        vertical-align: top;\n",
       "    }\n",
       "\n",
       "    .dataframe thead th {\n",
       "        text-align: right;\n",
       "    }\n",
       "</style>\n",
       "<table border=\"1\" class=\"dataframe\">\n",
       "  <thead>\n",
       "    <tr style=\"text-align: right;\">\n",
       "      <th></th>\n",
       "      <th>Unique Key</th>\n",
       "      <th>Created Date</th>\n",
       "      <th>Closed Date</th>\n",
       "      <th>Agency</th>\n",
       "      <th>Agency Name</th>\n",
       "      <th>Complaint Type</th>\n",
       "      <th>Descriptor</th>\n",
       "      <th>Location Type</th>\n",
       "      <th>Incident Zip</th>\n",
       "      <th>Incident Address</th>\n",
       "      <th>...</th>\n",
       "      <th>Bridge Highway Name</th>\n",
       "      <th>Bridge Highway Direction</th>\n",
       "      <th>Road Ramp</th>\n",
       "      <th>Bridge Highway Segment</th>\n",
       "      <th>Garage Lot Name</th>\n",
       "      <th>Ferry Direction</th>\n",
       "      <th>Ferry Terminal Name</th>\n",
       "      <th>Latitude</th>\n",
       "      <th>Longitude</th>\n",
       "      <th>Location</th>\n",
       "    </tr>\n",
       "  </thead>\n",
       "  <tbody>\n",
       "    <tr>\n",
       "      <th>0</th>\n",
       "      <td>32310363</td>\n",
       "      <td>12/31/2015 11:59:45 PM</td>\n",
       "      <td>01/01/2016 12:55:15 AM</td>\n",
       "      <td>NYPD</td>\n",
       "      <td>New York City Police Department</td>\n",
       "      <td>Noise - Street/Sidewalk</td>\n",
       "      <td>Loud Music/Party</td>\n",
       "      <td>Street/Sidewalk</td>\n",
       "      <td>10034.0</td>\n",
       "      <td>71 VERMILYEA AVENUE</td>\n",
       "      <td>...</td>\n",
       "      <td>NaN</td>\n",
       "      <td>NaN</td>\n",
       "      <td>NaN</td>\n",
       "      <td>NaN</td>\n",
       "      <td>NaN</td>\n",
       "      <td>NaN</td>\n",
       "      <td>NaN</td>\n",
       "      <td>40.865682</td>\n",
       "      <td>-73.923501</td>\n",
       "      <td>(40.86568153633767, -73.92350095571744)</td>\n",
       "    </tr>\n",
       "    <tr>\n",
       "      <th>1</th>\n",
       "      <td>32309934</td>\n",
       "      <td>12/31/2015 11:59:44 PM</td>\n",
       "      <td>01/01/2016 01:26:57 AM</td>\n",
       "      <td>NYPD</td>\n",
       "      <td>New York City Police Department</td>\n",
       "      <td>Blocked Driveway</td>\n",
       "      <td>No Access</td>\n",
       "      <td>Street/Sidewalk</td>\n",
       "      <td>11105.0</td>\n",
       "      <td>27-07 23 AVENUE</td>\n",
       "      <td>...</td>\n",
       "      <td>NaN</td>\n",
       "      <td>NaN</td>\n",
       "      <td>NaN</td>\n",
       "      <td>NaN</td>\n",
       "      <td>NaN</td>\n",
       "      <td>NaN</td>\n",
       "      <td>NaN</td>\n",
       "      <td>40.775945</td>\n",
       "      <td>-73.915094</td>\n",
       "      <td>(40.775945312321085, -73.91509393898605)</td>\n",
       "    </tr>\n",
       "    <tr>\n",
       "      <th>2</th>\n",
       "      <td>32309159</td>\n",
       "      <td>12/31/2015 11:59:29 PM</td>\n",
       "      <td>01/01/2016 04:51:03 AM</td>\n",
       "      <td>NYPD</td>\n",
       "      <td>New York City Police Department</td>\n",
       "      <td>Blocked Driveway</td>\n",
       "      <td>No Access</td>\n",
       "      <td>Street/Sidewalk</td>\n",
       "      <td>10458.0</td>\n",
       "      <td>2897 VALENTINE AVENUE</td>\n",
       "      <td>...</td>\n",
       "      <td>NaN</td>\n",
       "      <td>NaN</td>\n",
       "      <td>NaN</td>\n",
       "      <td>NaN</td>\n",
       "      <td>NaN</td>\n",
       "      <td>NaN</td>\n",
       "      <td>NaN</td>\n",
       "      <td>40.870325</td>\n",
       "      <td>-73.888525</td>\n",
       "      <td>(40.870324522111424, -73.88852464418646)</td>\n",
       "    </tr>\n",
       "    <tr>\n",
       "      <th>3</th>\n",
       "      <td>32305098</td>\n",
       "      <td>12/31/2015 11:57:46 PM</td>\n",
       "      <td>01/01/2016 07:43:13 AM</td>\n",
       "      <td>NYPD</td>\n",
       "      <td>New York City Police Department</td>\n",
       "      <td>Illegal Parking</td>\n",
       "      <td>Commercial Overnight Parking</td>\n",
       "      <td>Street/Sidewalk</td>\n",
       "      <td>10461.0</td>\n",
       "      <td>2940 BAISLEY AVENUE</td>\n",
       "      <td>...</td>\n",
       "      <td>NaN</td>\n",
       "      <td>NaN</td>\n",
       "      <td>NaN</td>\n",
       "      <td>NaN</td>\n",
       "      <td>NaN</td>\n",
       "      <td>NaN</td>\n",
       "      <td>NaN</td>\n",
       "      <td>40.835994</td>\n",
       "      <td>-73.828379</td>\n",
       "      <td>(40.83599404683083, -73.82837939584206)</td>\n",
       "    </tr>\n",
       "    <tr>\n",
       "      <th>4</th>\n",
       "      <td>32306529</td>\n",
       "      <td>12/31/2015 11:56:58 PM</td>\n",
       "      <td>01/01/2016 03:24:42 AM</td>\n",
       "      <td>NYPD</td>\n",
       "      <td>New York City Police Department</td>\n",
       "      <td>Illegal Parking</td>\n",
       "      <td>Blocked Sidewalk</td>\n",
       "      <td>Street/Sidewalk</td>\n",
       "      <td>11373.0</td>\n",
       "      <td>87-14 57 ROAD</td>\n",
       "      <td>...</td>\n",
       "      <td>NaN</td>\n",
       "      <td>NaN</td>\n",
       "      <td>NaN</td>\n",
       "      <td>NaN</td>\n",
       "      <td>NaN</td>\n",
       "      <td>NaN</td>\n",
       "      <td>NaN</td>\n",
       "      <td>40.733060</td>\n",
       "      <td>-73.874170</td>\n",
       "      <td>(40.733059618956815, -73.87416975810375)</td>\n",
       "    </tr>\n",
       "  </tbody>\n",
       "</table>\n",
       "<p>5 rows × 53 columns</p>\n",
       "</div>"
      ],
      "text/plain": [
       "   Unique Key            Created Date             Closed Date Agency  \\\n",
       "0    32310363  12/31/2015 11:59:45 PM  01/01/2016 12:55:15 AM   NYPD   \n",
       "1    32309934  12/31/2015 11:59:44 PM  01/01/2016 01:26:57 AM   NYPD   \n",
       "2    32309159  12/31/2015 11:59:29 PM  01/01/2016 04:51:03 AM   NYPD   \n",
       "3    32305098  12/31/2015 11:57:46 PM  01/01/2016 07:43:13 AM   NYPD   \n",
       "4    32306529  12/31/2015 11:56:58 PM  01/01/2016 03:24:42 AM   NYPD   \n",
       "\n",
       "                       Agency Name           Complaint Type  \\\n",
       "0  New York City Police Department  Noise - Street/Sidewalk   \n",
       "1  New York City Police Department         Blocked Driveway   \n",
       "2  New York City Police Department         Blocked Driveway   \n",
       "3  New York City Police Department          Illegal Parking   \n",
       "4  New York City Police Department          Illegal Parking   \n",
       "\n",
       "                     Descriptor    Location Type  Incident Zip  \\\n",
       "0              Loud Music/Party  Street/Sidewalk       10034.0   \n",
       "1                     No Access  Street/Sidewalk       11105.0   \n",
       "2                     No Access  Street/Sidewalk       10458.0   \n",
       "3  Commercial Overnight Parking  Street/Sidewalk       10461.0   \n",
       "4              Blocked Sidewalk  Street/Sidewalk       11373.0   \n",
       "\n",
       "        Incident Address  ... Bridge Highway Name Bridge Highway Direction  \\\n",
       "0    71 VERMILYEA AVENUE  ...                 NaN                      NaN   \n",
       "1        27-07 23 AVENUE  ...                 NaN                      NaN   \n",
       "2  2897 VALENTINE AVENUE  ...                 NaN                      NaN   \n",
       "3    2940 BAISLEY AVENUE  ...                 NaN                      NaN   \n",
       "4          87-14 57 ROAD  ...                 NaN                      NaN   \n",
       "\n",
       "  Road Ramp Bridge Highway Segment Garage Lot Name Ferry Direction  \\\n",
       "0       NaN                    NaN             NaN             NaN   \n",
       "1       NaN                    NaN             NaN             NaN   \n",
       "2       NaN                    NaN             NaN             NaN   \n",
       "3       NaN                    NaN             NaN             NaN   \n",
       "4       NaN                    NaN             NaN             NaN   \n",
       "\n",
       "  Ferry Terminal Name   Latitude  Longitude  \\\n",
       "0                 NaN  40.865682 -73.923501   \n",
       "1                 NaN  40.775945 -73.915094   \n",
       "2                 NaN  40.870325 -73.888525   \n",
       "3                 NaN  40.835994 -73.828379   \n",
       "4                 NaN  40.733060 -73.874170   \n",
       "\n",
       "                                   Location  \n",
       "0   (40.86568153633767, -73.92350095571744)  \n",
       "1  (40.775945312321085, -73.91509393898605)  \n",
       "2  (40.870324522111424, -73.88852464418646)  \n",
       "3   (40.83599404683083, -73.82837939584206)  \n",
       "4  (40.733059618956815, -73.87416975810375)  \n",
       "\n",
       "[5 rows x 53 columns]"
      ]
     },
     "execution_count": 3,
     "metadata": {},
     "output_type": "execute_result"
    }
   ],
   "source": [
    "csr.head()"
   ]
  },
  {
   "cell_type": "code",
   "execution_count": 4,
   "id": "bbf3adc2",
   "metadata": {
    "execution": {
     "iopub.execute_input": "2023-02-06T11:57:59.699097Z",
     "iopub.status.busy": "2023-02-06T11:57:59.698684Z",
     "iopub.status.idle": "2023-02-06T11:57:59.729647Z",
     "shell.execute_reply": "2023-02-06T11:57:59.728303Z"
    },
    "papermill": {
     "duration": 0.044605,
     "end_time": "2023-02-06T11:57:59.732169",
     "exception": false,
     "start_time": "2023-02-06T11:57:59.687564",
     "status": "completed"
    },
    "tags": []
   },
   "outputs": [
    {
     "data": {
      "text/html": [
       "<div>\n",
       "<style scoped>\n",
       "    .dataframe tbody tr th:only-of-type {\n",
       "        vertical-align: middle;\n",
       "    }\n",
       "\n",
       "    .dataframe tbody tr th {\n",
       "        vertical-align: top;\n",
       "    }\n",
       "\n",
       "    .dataframe thead th {\n",
       "        text-align: right;\n",
       "    }\n",
       "</style>\n",
       "<table border=\"1\" class=\"dataframe\">\n",
       "  <thead>\n",
       "    <tr style=\"text-align: right;\">\n",
       "      <th></th>\n",
       "      <th>Unique Key</th>\n",
       "      <th>Created Date</th>\n",
       "      <th>Closed Date</th>\n",
       "      <th>Agency</th>\n",
       "      <th>Agency Name</th>\n",
       "      <th>Complaint Type</th>\n",
       "      <th>Descriptor</th>\n",
       "      <th>Location Type</th>\n",
       "      <th>Incident Zip</th>\n",
       "      <th>Incident Address</th>\n",
       "      <th>...</th>\n",
       "      <th>Bridge Highway Name</th>\n",
       "      <th>Bridge Highway Direction</th>\n",
       "      <th>Road Ramp</th>\n",
       "      <th>Bridge Highway Segment</th>\n",
       "      <th>Garage Lot Name</th>\n",
       "      <th>Ferry Direction</th>\n",
       "      <th>Ferry Terminal Name</th>\n",
       "      <th>Latitude</th>\n",
       "      <th>Longitude</th>\n",
       "      <th>Location</th>\n",
       "    </tr>\n",
       "  </thead>\n",
       "  <tbody>\n",
       "    <tr>\n",
       "      <th>364553</th>\n",
       "      <td>29609918</td>\n",
       "      <td>01/01/2015 12:04:44 AM</td>\n",
       "      <td>01/01/2015 10:22:31 AM</td>\n",
       "      <td>NYPD</td>\n",
       "      <td>New York City Police Department</td>\n",
       "      <td>Illegal Parking</td>\n",
       "      <td>Blocked Hydrant</td>\n",
       "      <td>Street/Sidewalk</td>\n",
       "      <td>11421.0</td>\n",
       "      <td>84-25 85 ROAD</td>\n",
       "      <td>...</td>\n",
       "      <td>NaN</td>\n",
       "      <td>NaN</td>\n",
       "      <td>NaN</td>\n",
       "      <td>NaN</td>\n",
       "      <td>NaN</td>\n",
       "      <td>NaN</td>\n",
       "      <td>NaN</td>\n",
       "      <td>40.695145</td>\n",
       "      <td>-73.860949</td>\n",
       "      <td>(40.69514470265117, -73.86094888534394)</td>\n",
       "    </tr>\n",
       "    <tr>\n",
       "      <th>364554</th>\n",
       "      <td>29608392</td>\n",
       "      <td>01/01/2015 12:04:28 AM</td>\n",
       "      <td>01/01/2015 02:25:02 AM</td>\n",
       "      <td>NYPD</td>\n",
       "      <td>New York City Police Department</td>\n",
       "      <td>Noise - Vehicle</td>\n",
       "      <td>Car/Truck Horn</td>\n",
       "      <td>Street/Sidewalk</td>\n",
       "      <td>10468.0</td>\n",
       "      <td>2555 SEDGWICK AVENUE</td>\n",
       "      <td>...</td>\n",
       "      <td>NaN</td>\n",
       "      <td>NaN</td>\n",
       "      <td>NaN</td>\n",
       "      <td>NaN</td>\n",
       "      <td>NaN</td>\n",
       "      <td>NaN</td>\n",
       "      <td>NaN</td>\n",
       "      <td>40.867830</td>\n",
       "      <td>-73.907178</td>\n",
       "      <td>(40.86782963689454, -73.90717786644662)</td>\n",
       "    </tr>\n",
       "    <tr>\n",
       "      <th>364555</th>\n",
       "      <td>29607589</td>\n",
       "      <td>01/01/2015 12:01:30 AM</td>\n",
       "      <td>01/01/2015 12:20:33 AM</td>\n",
       "      <td>NYPD</td>\n",
       "      <td>New York City Police Department</td>\n",
       "      <td>Noise - Street/Sidewalk</td>\n",
       "      <td>Loud Music/Party</td>\n",
       "      <td>Street/Sidewalk</td>\n",
       "      <td>10031.0</td>\n",
       "      <td>508 WEST 139 STREET</td>\n",
       "      <td>...</td>\n",
       "      <td>NaN</td>\n",
       "      <td>NaN</td>\n",
       "      <td>NaN</td>\n",
       "      <td>NaN</td>\n",
       "      <td>NaN</td>\n",
       "      <td>NaN</td>\n",
       "      <td>NaN</td>\n",
       "      <td>40.821647</td>\n",
       "      <td>-73.950873</td>\n",
       "      <td>(40.821646626438095, -73.95087342885292)</td>\n",
       "    </tr>\n",
       "    <tr>\n",
       "      <th>364556</th>\n",
       "      <td>29610889</td>\n",
       "      <td>01/01/2015 12:01:29 AM</td>\n",
       "      <td>01/01/2015 02:42:22 AM</td>\n",
       "      <td>NYPD</td>\n",
       "      <td>New York City Police Department</td>\n",
       "      <td>Blocked Driveway</td>\n",
       "      <td>No Access</td>\n",
       "      <td>Street/Sidewalk</td>\n",
       "      <td>10466.0</td>\n",
       "      <td>931 EAST 226 STREET</td>\n",
       "      <td>...</td>\n",
       "      <td>NaN</td>\n",
       "      <td>NaN</td>\n",
       "      <td>NaN</td>\n",
       "      <td>NaN</td>\n",
       "      <td>NaN</td>\n",
       "      <td>NaN</td>\n",
       "      <td>NaN</td>\n",
       "      <td>40.886361</td>\n",
       "      <td>-73.853290</td>\n",
       "      <td>(40.88636077906953, -73.85329048666742)</td>\n",
       "    </tr>\n",
       "    <tr>\n",
       "      <th>364557</th>\n",
       "      <td>29611816</td>\n",
       "      <td>01/01/2015 12:00:50 AM</td>\n",
       "      <td>01/01/2015 02:47:50 AM</td>\n",
       "      <td>NYPD</td>\n",
       "      <td>New York City Police Department</td>\n",
       "      <td>Blocked Driveway</td>\n",
       "      <td>No Access</td>\n",
       "      <td>Street/Sidewalk</td>\n",
       "      <td>11420.0</td>\n",
       "      <td>123-19 135 STREET</td>\n",
       "      <td>...</td>\n",
       "      <td>NaN</td>\n",
       "      <td>NaN</td>\n",
       "      <td>NaN</td>\n",
       "      <td>NaN</td>\n",
       "      <td>NaN</td>\n",
       "      <td>NaN</td>\n",
       "      <td>NaN</td>\n",
       "      <td>40.674212</td>\n",
       "      <td>-73.803585</td>\n",
       "      <td>(40.674211762243935, -73.80358548685278)</td>\n",
       "    </tr>\n",
       "  </tbody>\n",
       "</table>\n",
       "<p>5 rows × 53 columns</p>\n",
       "</div>"
      ],
      "text/plain": [
       "        Unique Key            Created Date             Closed Date Agency  \\\n",
       "364553    29609918  01/01/2015 12:04:44 AM  01/01/2015 10:22:31 AM   NYPD   \n",
       "364554    29608392  01/01/2015 12:04:28 AM  01/01/2015 02:25:02 AM   NYPD   \n",
       "364555    29607589  01/01/2015 12:01:30 AM  01/01/2015 12:20:33 AM   NYPD   \n",
       "364556    29610889  01/01/2015 12:01:29 AM  01/01/2015 02:42:22 AM   NYPD   \n",
       "364557    29611816  01/01/2015 12:00:50 AM  01/01/2015 02:47:50 AM   NYPD   \n",
       "\n",
       "                            Agency Name           Complaint Type  \\\n",
       "364553  New York City Police Department          Illegal Parking   \n",
       "364554  New York City Police Department          Noise - Vehicle   \n",
       "364555  New York City Police Department  Noise - Street/Sidewalk   \n",
       "364556  New York City Police Department         Blocked Driveway   \n",
       "364557  New York City Police Department         Blocked Driveway   \n",
       "\n",
       "              Descriptor    Location Type  Incident Zip      Incident Address  \\\n",
       "364553   Blocked Hydrant  Street/Sidewalk       11421.0         84-25 85 ROAD   \n",
       "364554    Car/Truck Horn  Street/Sidewalk       10468.0  2555 SEDGWICK AVENUE   \n",
       "364555  Loud Music/Party  Street/Sidewalk       10031.0   508 WEST 139 STREET   \n",
       "364556         No Access  Street/Sidewalk       10466.0   931 EAST 226 STREET   \n",
       "364557         No Access  Street/Sidewalk       11420.0     123-19 135 STREET   \n",
       "\n",
       "        ... Bridge Highway Name Bridge Highway Direction Road Ramp  \\\n",
       "364553  ...                 NaN                      NaN       NaN   \n",
       "364554  ...                 NaN                      NaN       NaN   \n",
       "364555  ...                 NaN                      NaN       NaN   \n",
       "364556  ...                 NaN                      NaN       NaN   \n",
       "364557  ...                 NaN                      NaN       NaN   \n",
       "\n",
       "       Bridge Highway Segment Garage Lot Name Ferry Direction  \\\n",
       "364553                    NaN             NaN             NaN   \n",
       "364554                    NaN             NaN             NaN   \n",
       "364555                    NaN             NaN             NaN   \n",
       "364556                    NaN             NaN             NaN   \n",
       "364557                    NaN             NaN             NaN   \n",
       "\n",
       "       Ferry Terminal Name   Latitude  Longitude  \\\n",
       "364553                 NaN  40.695145 -73.860949   \n",
       "364554                 NaN  40.867830 -73.907178   \n",
       "364555                 NaN  40.821647 -73.950873   \n",
       "364556                 NaN  40.886361 -73.853290   \n",
       "364557                 NaN  40.674212 -73.803585   \n",
       "\n",
       "                                        Location  \n",
       "364553   (40.69514470265117, -73.86094888534394)  \n",
       "364554   (40.86782963689454, -73.90717786644662)  \n",
       "364555  (40.821646626438095, -73.95087342885292)  \n",
       "364556   (40.88636077906953, -73.85329048666742)  \n",
       "364557  (40.674211762243935, -73.80358548685278)  \n",
       "\n",
       "[5 rows x 53 columns]"
      ]
     },
     "execution_count": 4,
     "metadata": {},
     "output_type": "execute_result"
    }
   ],
   "source": [
    "csr.tail()"
   ]
  },
  {
   "cell_type": "code",
   "execution_count": 5,
   "id": "80915bb0",
   "metadata": {
    "execution": {
     "iopub.execute_input": "2023-02-06T11:57:59.755602Z",
     "iopub.status.busy": "2023-02-06T11:57:59.754214Z",
     "iopub.status.idle": "2023-02-06T11:57:59.762256Z",
     "shell.execute_reply": "2023-02-06T11:57:59.761128Z"
    },
    "papermill": {
     "duration": 0.022283,
     "end_time": "2023-02-06T11:57:59.764666",
     "exception": false,
     "start_time": "2023-02-06T11:57:59.742383",
     "status": "completed"
    },
    "tags": []
   },
   "outputs": [
    {
     "data": {
      "text/plain": [
       "(364558, 53)"
      ]
     },
     "execution_count": 5,
     "metadata": {},
     "output_type": "execute_result"
    }
   ],
   "source": [
    "csr.shape"
   ]
  },
  {
   "cell_type": "code",
   "execution_count": 6,
   "id": "02a0a0cf",
   "metadata": {
    "execution": {
     "iopub.execute_input": "2023-02-06T11:57:59.789741Z",
     "iopub.status.busy": "2023-02-06T11:57:59.788461Z",
     "iopub.status.idle": "2023-02-06T11:57:59.795583Z",
     "shell.execute_reply": "2023-02-06T11:57:59.794556Z"
    },
    "papermill": {
     "duration": 0.021206,
     "end_time": "2023-02-06T11:57:59.797872",
     "exception": false,
     "start_time": "2023-02-06T11:57:59.776666",
     "status": "completed"
    },
    "tags": []
   },
   "outputs": [
    {
     "data": {
      "text/plain": [
       "pandas.core.frame.DataFrame"
      ]
     },
     "execution_count": 6,
     "metadata": {},
     "output_type": "execute_result"
    }
   ],
   "source": [
    "type(csr)"
   ]
  },
  {
   "cell_type": "code",
   "execution_count": 7,
   "id": "cf2afb97",
   "metadata": {
    "execution": {
     "iopub.execute_input": "2023-02-06T11:57:59.820246Z",
     "iopub.status.busy": "2023-02-06T11:57:59.819671Z",
     "iopub.status.idle": "2023-02-06T11:58:00.054574Z",
     "shell.execute_reply": "2023-02-06T11:58:00.053653Z"
    },
    "papermill": {
     "duration": 0.248682,
     "end_time": "2023-02-06T11:58:00.056945",
     "exception": false,
     "start_time": "2023-02-06T11:57:59.808263",
     "status": "completed"
    },
    "tags": []
   },
   "outputs": [
    {
     "data": {
      "text/html": [
       "<div>\n",
       "<style scoped>\n",
       "    .dataframe tbody tr th:only-of-type {\n",
       "        vertical-align: middle;\n",
       "    }\n",
       "\n",
       "    .dataframe tbody tr th {\n",
       "        vertical-align: top;\n",
       "    }\n",
       "\n",
       "    .dataframe thead th {\n",
       "        text-align: right;\n",
       "    }\n",
       "</style>\n",
       "<table border=\"1\" class=\"dataframe\">\n",
       "  <thead>\n",
       "    <tr style=\"text-align: right;\">\n",
       "      <th></th>\n",
       "      <th>Unique Key</th>\n",
       "      <th>Incident Zip</th>\n",
       "      <th>X Coordinate (State Plane)</th>\n",
       "      <th>Y Coordinate (State Plane)</th>\n",
       "      <th>School or Citywide Complaint</th>\n",
       "      <th>Vehicle Type</th>\n",
       "      <th>Taxi Company Borough</th>\n",
       "      <th>Taxi Pick Up Location</th>\n",
       "      <th>Garage Lot Name</th>\n",
       "      <th>Latitude</th>\n",
       "      <th>Longitude</th>\n",
       "    </tr>\n",
       "  </thead>\n",
       "  <tbody>\n",
       "    <tr>\n",
       "      <th>count</th>\n",
       "      <td>3.645580e+05</td>\n",
       "      <td>361560.000000</td>\n",
       "      <td>3.605280e+05</td>\n",
       "      <td>360528.000000</td>\n",
       "      <td>0.0</td>\n",
       "      <td>0.0</td>\n",
       "      <td>0.0</td>\n",
       "      <td>0.0</td>\n",
       "      <td>0.0</td>\n",
       "      <td>360528.000000</td>\n",
       "      <td>360528.000000</td>\n",
       "    </tr>\n",
       "    <tr>\n",
       "      <th>mean</th>\n",
       "      <td>3.106595e+07</td>\n",
       "      <td>10858.496659</td>\n",
       "      <td>1.005043e+06</td>\n",
       "      <td>203425.305782</td>\n",
       "      <td>NaN</td>\n",
       "      <td>NaN</td>\n",
       "      <td>NaN</td>\n",
       "      <td>NaN</td>\n",
       "      <td>NaN</td>\n",
       "      <td>40.724980</td>\n",
       "      <td>-73.924946</td>\n",
       "    </tr>\n",
       "    <tr>\n",
       "      <th>std</th>\n",
       "      <td>7.331531e+05</td>\n",
       "      <td>578.263114</td>\n",
       "      <td>2.196362e+04</td>\n",
       "      <td>29842.192857</td>\n",
       "      <td>NaN</td>\n",
       "      <td>NaN</td>\n",
       "      <td>NaN</td>\n",
       "      <td>NaN</td>\n",
       "      <td>NaN</td>\n",
       "      <td>0.081907</td>\n",
       "      <td>0.079213</td>\n",
       "    </tr>\n",
       "    <tr>\n",
       "      <th>min</th>\n",
       "      <td>2.960737e+07</td>\n",
       "      <td>83.000000</td>\n",
       "      <td>9.133570e+05</td>\n",
       "      <td>121185.000000</td>\n",
       "      <td>NaN</td>\n",
       "      <td>NaN</td>\n",
       "      <td>NaN</td>\n",
       "      <td>NaN</td>\n",
       "      <td>NaN</td>\n",
       "      <td>40.499040</td>\n",
       "      <td>-74.254937</td>\n",
       "    </tr>\n",
       "    <tr>\n",
       "      <th>25%</th>\n",
       "      <td>3.049938e+07</td>\n",
       "      <td>10314.000000</td>\n",
       "      <td>9.919460e+05</td>\n",
       "      <td>182945.000000</td>\n",
       "      <td>NaN</td>\n",
       "      <td>NaN</td>\n",
       "      <td>NaN</td>\n",
       "      <td>NaN</td>\n",
       "      <td>NaN</td>\n",
       "      <td>40.668742</td>\n",
       "      <td>-73.972253</td>\n",
       "    </tr>\n",
       "    <tr>\n",
       "      <th>50%</th>\n",
       "      <td>3.108795e+07</td>\n",
       "      <td>11209.000000</td>\n",
       "      <td>1.003470e+06</td>\n",
       "      <td>201023.000000</td>\n",
       "      <td>NaN</td>\n",
       "      <td>NaN</td>\n",
       "      <td>NaN</td>\n",
       "      <td>NaN</td>\n",
       "      <td>NaN</td>\n",
       "      <td>40.718406</td>\n",
       "      <td>-73.930643</td>\n",
       "    </tr>\n",
       "    <tr>\n",
       "      <th>75%</th>\n",
       "      <td>3.167433e+07</td>\n",
       "      <td>11238.000000</td>\n",
       "      <td>1.019134e+06</td>\n",
       "      <td>222790.000000</td>\n",
       "      <td>NaN</td>\n",
       "      <td>NaN</td>\n",
       "      <td>NaN</td>\n",
       "      <td>NaN</td>\n",
       "      <td>NaN</td>\n",
       "      <td>40.778166</td>\n",
       "      <td>-73.874098</td>\n",
       "    </tr>\n",
       "    <tr>\n",
       "      <th>max</th>\n",
       "      <td>3.231065e+07</td>\n",
       "      <td>11697.000000</td>\n",
       "      <td>1.067186e+06</td>\n",
       "      <td>271876.000000</td>\n",
       "      <td>NaN</td>\n",
       "      <td>NaN</td>\n",
       "      <td>NaN</td>\n",
       "      <td>NaN</td>\n",
       "      <td>NaN</td>\n",
       "      <td>40.912869</td>\n",
       "      <td>-73.700715</td>\n",
       "    </tr>\n",
       "  </tbody>\n",
       "</table>\n",
       "</div>"
      ],
      "text/plain": [
       "         Unique Key   Incident Zip  X Coordinate (State Plane)  \\\n",
       "count  3.645580e+05  361560.000000                3.605280e+05   \n",
       "mean   3.106595e+07   10858.496659                1.005043e+06   \n",
       "std    7.331531e+05     578.263114                2.196362e+04   \n",
       "min    2.960737e+07      83.000000                9.133570e+05   \n",
       "25%    3.049938e+07   10314.000000                9.919460e+05   \n",
       "50%    3.108795e+07   11209.000000                1.003470e+06   \n",
       "75%    3.167433e+07   11238.000000                1.019134e+06   \n",
       "max    3.231065e+07   11697.000000                1.067186e+06   \n",
       "\n",
       "       Y Coordinate (State Plane)  School or Citywide Complaint  Vehicle Type  \\\n",
       "count               360528.000000                           0.0           0.0   \n",
       "mean                203425.305782                           NaN           NaN   \n",
       "std                  29842.192857                           NaN           NaN   \n",
       "min                 121185.000000                           NaN           NaN   \n",
       "25%                 182945.000000                           NaN           NaN   \n",
       "50%                 201023.000000                           NaN           NaN   \n",
       "75%                 222790.000000                           NaN           NaN   \n",
       "max                 271876.000000                           NaN           NaN   \n",
       "\n",
       "       Taxi Company Borough  Taxi Pick Up Location  Garage Lot Name  \\\n",
       "count                   0.0                    0.0              0.0   \n",
       "mean                    NaN                    NaN              NaN   \n",
       "std                     NaN                    NaN              NaN   \n",
       "min                     NaN                    NaN              NaN   \n",
       "25%                     NaN                    NaN              NaN   \n",
       "50%                     NaN                    NaN              NaN   \n",
       "75%                     NaN                    NaN              NaN   \n",
       "max                     NaN                    NaN              NaN   \n",
       "\n",
       "            Latitude      Longitude  \n",
       "count  360528.000000  360528.000000  \n",
       "mean       40.724980     -73.924946  \n",
       "std         0.081907       0.079213  \n",
       "min        40.499040     -74.254937  \n",
       "25%        40.668742     -73.972253  \n",
       "50%        40.718406     -73.930643  \n",
       "75%        40.778166     -73.874098  \n",
       "max        40.912869     -73.700715  "
      ]
     },
     "execution_count": 7,
     "metadata": {},
     "output_type": "execute_result"
    }
   ],
   "source": [
    "csr.describe()"
   ]
  },
  {
   "cell_type": "code",
   "execution_count": 8,
   "id": "1543d862",
   "metadata": {
    "execution": {
     "iopub.execute_input": "2023-02-06T11:58:00.080411Z",
     "iopub.status.busy": "2023-02-06T11:58:00.079494Z",
     "iopub.status.idle": "2023-02-06T11:58:00.086651Z",
     "shell.execute_reply": "2023-02-06T11:58:00.085511Z"
    },
    "papermill": {
     "duration": 0.021301,
     "end_time": "2023-02-06T11:58:00.088992",
     "exception": false,
     "start_time": "2023-02-06T11:58:00.067691",
     "status": "completed"
    },
    "tags": []
   },
   "outputs": [
    {
     "data": {
      "text/plain": [
       "Index(['Unique Key', 'Created Date', 'Closed Date', 'Agency', 'Agency Name',\n",
       "       'Complaint Type', 'Descriptor', 'Location Type', 'Incident Zip',\n",
       "       'Incident Address', 'Street Name', 'Cross Street 1', 'Cross Street 2',\n",
       "       'Intersection Street 1', 'Intersection Street 2', 'Address Type',\n",
       "       'City', 'Landmark', 'Facility Type', 'Status', 'Due Date',\n",
       "       'Resolution Description', 'Resolution Action Updated Date',\n",
       "       'Community Board', 'Borough', 'X Coordinate (State Plane)',\n",
       "       'Y Coordinate (State Plane)', 'Park Facility Name', 'Park Borough',\n",
       "       'School Name', 'School Number', 'School Region', 'School Code',\n",
       "       'School Phone Number', 'School Address', 'School City', 'School State',\n",
       "       'School Zip', 'School Not Found', 'School or Citywide Complaint',\n",
       "       'Vehicle Type', 'Taxi Company Borough', 'Taxi Pick Up Location',\n",
       "       'Bridge Highway Name', 'Bridge Highway Direction', 'Road Ramp',\n",
       "       'Bridge Highway Segment', 'Garage Lot Name', 'Ferry Direction',\n",
       "       'Ferry Terminal Name', 'Latitude', 'Longitude', 'Location'],\n",
       "      dtype='object')"
      ]
     },
     "execution_count": 8,
     "metadata": {},
     "output_type": "execute_result"
    }
   ],
   "source": [
    "csr.columns"
   ]
  },
  {
   "cell_type": "code",
   "execution_count": 9,
   "id": "290dd5fa",
   "metadata": {
    "execution": {
     "iopub.execute_input": "2023-02-06T11:58:00.113394Z",
     "iopub.status.busy": "2023-02-06T11:58:00.112262Z",
     "iopub.status.idle": "2023-02-06T11:58:00.766924Z",
     "shell.execute_reply": "2023-02-06T11:58:00.766078Z"
    },
    "papermill": {
     "duration": 0.669349,
     "end_time": "2023-02-06T11:58:00.769275",
     "exception": false,
     "start_time": "2023-02-06T11:58:00.099926",
     "status": "completed"
    },
    "tags": []
   },
   "outputs": [
    {
     "data": {
      "text/html": [
       "<div>\n",
       "<style scoped>\n",
       "    .dataframe tbody tr th:only-of-type {\n",
       "        vertical-align: middle;\n",
       "    }\n",
       "\n",
       "    .dataframe tbody tr th {\n",
       "        vertical-align: top;\n",
       "    }\n",
       "\n",
       "    .dataframe thead th {\n",
       "        text-align: right;\n",
       "    }\n",
       "</style>\n",
       "<table border=\"1\" class=\"dataframe\">\n",
       "  <thead>\n",
       "    <tr style=\"text-align: right;\">\n",
       "      <th></th>\n",
       "      <th>Unique Key</th>\n",
       "      <th>Created Date</th>\n",
       "      <th>Closed Date</th>\n",
       "      <th>Agency</th>\n",
       "      <th>Agency Name</th>\n",
       "      <th>Complaint Type</th>\n",
       "      <th>Descriptor</th>\n",
       "      <th>Location Type</th>\n",
       "      <th>Incident Zip</th>\n",
       "      <th>Incident Address</th>\n",
       "      <th>...</th>\n",
       "      <th>Bridge Highway Name</th>\n",
       "      <th>Bridge Highway Direction</th>\n",
       "      <th>Road Ramp</th>\n",
       "      <th>Bridge Highway Segment</th>\n",
       "      <th>Garage Lot Name</th>\n",
       "      <th>Ferry Direction</th>\n",
       "      <th>Ferry Terminal Name</th>\n",
       "      <th>Latitude</th>\n",
       "      <th>Longitude</th>\n",
       "      <th>Location</th>\n",
       "    </tr>\n",
       "  </thead>\n",
       "  <tbody>\n",
       "    <tr>\n",
       "      <th>0</th>\n",
       "      <td>False</td>\n",
       "      <td>False</td>\n",
       "      <td>False</td>\n",
       "      <td>False</td>\n",
       "      <td>False</td>\n",
       "      <td>False</td>\n",
       "      <td>False</td>\n",
       "      <td>False</td>\n",
       "      <td>False</td>\n",
       "      <td>False</td>\n",
       "      <td>...</td>\n",
       "      <td>True</td>\n",
       "      <td>True</td>\n",
       "      <td>True</td>\n",
       "      <td>True</td>\n",
       "      <td>True</td>\n",
       "      <td>True</td>\n",
       "      <td>True</td>\n",
       "      <td>False</td>\n",
       "      <td>False</td>\n",
       "      <td>False</td>\n",
       "    </tr>\n",
       "    <tr>\n",
       "      <th>1</th>\n",
       "      <td>False</td>\n",
       "      <td>False</td>\n",
       "      <td>False</td>\n",
       "      <td>False</td>\n",
       "      <td>False</td>\n",
       "      <td>False</td>\n",
       "      <td>False</td>\n",
       "      <td>False</td>\n",
       "      <td>False</td>\n",
       "      <td>False</td>\n",
       "      <td>...</td>\n",
       "      <td>True</td>\n",
       "      <td>True</td>\n",
       "      <td>True</td>\n",
       "      <td>True</td>\n",
       "      <td>True</td>\n",
       "      <td>True</td>\n",
       "      <td>True</td>\n",
       "      <td>False</td>\n",
       "      <td>False</td>\n",
       "      <td>False</td>\n",
       "    </tr>\n",
       "    <tr>\n",
       "      <th>2</th>\n",
       "      <td>False</td>\n",
       "      <td>False</td>\n",
       "      <td>False</td>\n",
       "      <td>False</td>\n",
       "      <td>False</td>\n",
       "      <td>False</td>\n",
       "      <td>False</td>\n",
       "      <td>False</td>\n",
       "      <td>False</td>\n",
       "      <td>False</td>\n",
       "      <td>...</td>\n",
       "      <td>True</td>\n",
       "      <td>True</td>\n",
       "      <td>True</td>\n",
       "      <td>True</td>\n",
       "      <td>True</td>\n",
       "      <td>True</td>\n",
       "      <td>True</td>\n",
       "      <td>False</td>\n",
       "      <td>False</td>\n",
       "      <td>False</td>\n",
       "    </tr>\n",
       "    <tr>\n",
       "      <th>3</th>\n",
       "      <td>False</td>\n",
       "      <td>False</td>\n",
       "      <td>False</td>\n",
       "      <td>False</td>\n",
       "      <td>False</td>\n",
       "      <td>False</td>\n",
       "      <td>False</td>\n",
       "      <td>False</td>\n",
       "      <td>False</td>\n",
       "      <td>False</td>\n",
       "      <td>...</td>\n",
       "      <td>True</td>\n",
       "      <td>True</td>\n",
       "      <td>True</td>\n",
       "      <td>True</td>\n",
       "      <td>True</td>\n",
       "      <td>True</td>\n",
       "      <td>True</td>\n",
       "      <td>False</td>\n",
       "      <td>False</td>\n",
       "      <td>False</td>\n",
       "    </tr>\n",
       "    <tr>\n",
       "      <th>4</th>\n",
       "      <td>False</td>\n",
       "      <td>False</td>\n",
       "      <td>False</td>\n",
       "      <td>False</td>\n",
       "      <td>False</td>\n",
       "      <td>False</td>\n",
       "      <td>False</td>\n",
       "      <td>False</td>\n",
       "      <td>False</td>\n",
       "      <td>False</td>\n",
       "      <td>...</td>\n",
       "      <td>True</td>\n",
       "      <td>True</td>\n",
       "      <td>True</td>\n",
       "      <td>True</td>\n",
       "      <td>True</td>\n",
       "      <td>True</td>\n",
       "      <td>True</td>\n",
       "      <td>False</td>\n",
       "      <td>False</td>\n",
       "      <td>False</td>\n",
       "    </tr>\n",
       "    <tr>\n",
       "      <th>...</th>\n",
       "      <td>...</td>\n",
       "      <td>...</td>\n",
       "      <td>...</td>\n",
       "      <td>...</td>\n",
       "      <td>...</td>\n",
       "      <td>...</td>\n",
       "      <td>...</td>\n",
       "      <td>...</td>\n",
       "      <td>...</td>\n",
       "      <td>...</td>\n",
       "      <td>...</td>\n",
       "      <td>...</td>\n",
       "      <td>...</td>\n",
       "      <td>...</td>\n",
       "      <td>...</td>\n",
       "      <td>...</td>\n",
       "      <td>...</td>\n",
       "      <td>...</td>\n",
       "      <td>...</td>\n",
       "      <td>...</td>\n",
       "      <td>...</td>\n",
       "    </tr>\n",
       "    <tr>\n",
       "      <th>364553</th>\n",
       "      <td>False</td>\n",
       "      <td>False</td>\n",
       "      <td>False</td>\n",
       "      <td>False</td>\n",
       "      <td>False</td>\n",
       "      <td>False</td>\n",
       "      <td>False</td>\n",
       "      <td>False</td>\n",
       "      <td>False</td>\n",
       "      <td>False</td>\n",
       "      <td>...</td>\n",
       "      <td>True</td>\n",
       "      <td>True</td>\n",
       "      <td>True</td>\n",
       "      <td>True</td>\n",
       "      <td>True</td>\n",
       "      <td>True</td>\n",
       "      <td>True</td>\n",
       "      <td>False</td>\n",
       "      <td>False</td>\n",
       "      <td>False</td>\n",
       "    </tr>\n",
       "    <tr>\n",
       "      <th>364554</th>\n",
       "      <td>False</td>\n",
       "      <td>False</td>\n",
       "      <td>False</td>\n",
       "      <td>False</td>\n",
       "      <td>False</td>\n",
       "      <td>False</td>\n",
       "      <td>False</td>\n",
       "      <td>False</td>\n",
       "      <td>False</td>\n",
       "      <td>False</td>\n",
       "      <td>...</td>\n",
       "      <td>True</td>\n",
       "      <td>True</td>\n",
       "      <td>True</td>\n",
       "      <td>True</td>\n",
       "      <td>True</td>\n",
       "      <td>True</td>\n",
       "      <td>True</td>\n",
       "      <td>False</td>\n",
       "      <td>False</td>\n",
       "      <td>False</td>\n",
       "    </tr>\n",
       "    <tr>\n",
       "      <th>364555</th>\n",
       "      <td>False</td>\n",
       "      <td>False</td>\n",
       "      <td>False</td>\n",
       "      <td>False</td>\n",
       "      <td>False</td>\n",
       "      <td>False</td>\n",
       "      <td>False</td>\n",
       "      <td>False</td>\n",
       "      <td>False</td>\n",
       "      <td>False</td>\n",
       "      <td>...</td>\n",
       "      <td>True</td>\n",
       "      <td>True</td>\n",
       "      <td>True</td>\n",
       "      <td>True</td>\n",
       "      <td>True</td>\n",
       "      <td>True</td>\n",
       "      <td>True</td>\n",
       "      <td>False</td>\n",
       "      <td>False</td>\n",
       "      <td>False</td>\n",
       "    </tr>\n",
       "    <tr>\n",
       "      <th>364556</th>\n",
       "      <td>False</td>\n",
       "      <td>False</td>\n",
       "      <td>False</td>\n",
       "      <td>False</td>\n",
       "      <td>False</td>\n",
       "      <td>False</td>\n",
       "      <td>False</td>\n",
       "      <td>False</td>\n",
       "      <td>False</td>\n",
       "      <td>False</td>\n",
       "      <td>...</td>\n",
       "      <td>True</td>\n",
       "      <td>True</td>\n",
       "      <td>True</td>\n",
       "      <td>True</td>\n",
       "      <td>True</td>\n",
       "      <td>True</td>\n",
       "      <td>True</td>\n",
       "      <td>False</td>\n",
       "      <td>False</td>\n",
       "      <td>False</td>\n",
       "    </tr>\n",
       "    <tr>\n",
       "      <th>364557</th>\n",
       "      <td>False</td>\n",
       "      <td>False</td>\n",
       "      <td>False</td>\n",
       "      <td>False</td>\n",
       "      <td>False</td>\n",
       "      <td>False</td>\n",
       "      <td>False</td>\n",
       "      <td>False</td>\n",
       "      <td>False</td>\n",
       "      <td>False</td>\n",
       "      <td>...</td>\n",
       "      <td>True</td>\n",
       "      <td>True</td>\n",
       "      <td>True</td>\n",
       "      <td>True</td>\n",
       "      <td>True</td>\n",
       "      <td>True</td>\n",
       "      <td>True</td>\n",
       "      <td>False</td>\n",
       "      <td>False</td>\n",
       "      <td>False</td>\n",
       "    </tr>\n",
       "  </tbody>\n",
       "</table>\n",
       "<p>364558 rows × 53 columns</p>\n",
       "</div>"
      ],
      "text/plain": [
       "        Unique Key  Created Date  Closed Date  Agency  Agency Name  \\\n",
       "0            False         False        False   False        False   \n",
       "1            False         False        False   False        False   \n",
       "2            False         False        False   False        False   \n",
       "3            False         False        False   False        False   \n",
       "4            False         False        False   False        False   \n",
       "...            ...           ...          ...     ...          ...   \n",
       "364553       False         False        False   False        False   \n",
       "364554       False         False        False   False        False   \n",
       "364555       False         False        False   False        False   \n",
       "364556       False         False        False   False        False   \n",
       "364557       False         False        False   False        False   \n",
       "\n",
       "        Complaint Type  Descriptor  Location Type  Incident Zip  \\\n",
       "0                False       False          False         False   \n",
       "1                False       False          False         False   \n",
       "2                False       False          False         False   \n",
       "3                False       False          False         False   \n",
       "4                False       False          False         False   \n",
       "...                ...         ...            ...           ...   \n",
       "364553           False       False          False         False   \n",
       "364554           False       False          False         False   \n",
       "364555           False       False          False         False   \n",
       "364556           False       False          False         False   \n",
       "364557           False       False          False         False   \n",
       "\n",
       "        Incident Address  ...  Bridge Highway Name  Bridge Highway Direction  \\\n",
       "0                  False  ...                 True                      True   \n",
       "1                  False  ...                 True                      True   \n",
       "2                  False  ...                 True                      True   \n",
       "3                  False  ...                 True                      True   \n",
       "4                  False  ...                 True                      True   \n",
       "...                  ...  ...                  ...                       ...   \n",
       "364553             False  ...                 True                      True   \n",
       "364554             False  ...                 True                      True   \n",
       "364555             False  ...                 True                      True   \n",
       "364556             False  ...                 True                      True   \n",
       "364557             False  ...                 True                      True   \n",
       "\n",
       "        Road Ramp  Bridge Highway Segment  Garage Lot Name  Ferry Direction  \\\n",
       "0            True                    True             True             True   \n",
       "1            True                    True             True             True   \n",
       "2            True                    True             True             True   \n",
       "3            True                    True             True             True   \n",
       "4            True                    True             True             True   \n",
       "...           ...                     ...              ...              ...   \n",
       "364553       True                    True             True             True   \n",
       "364554       True                    True             True             True   \n",
       "364555       True                    True             True             True   \n",
       "364556       True                    True             True             True   \n",
       "364557       True                    True             True             True   \n",
       "\n",
       "        Ferry Terminal Name  Latitude  Longitude  Location  \n",
       "0                      True     False      False     False  \n",
       "1                      True     False      False     False  \n",
       "2                      True     False      False     False  \n",
       "3                      True     False      False     False  \n",
       "4                      True     False      False     False  \n",
       "...                     ...       ...        ...       ...  \n",
       "364553                 True     False      False     False  \n",
       "364554                 True     False      False     False  \n",
       "364555                 True     False      False     False  \n",
       "364556                 True     False      False     False  \n",
       "364557                 True     False      False     False  \n",
       "\n",
       "[364558 rows x 53 columns]"
      ]
     },
     "execution_count": 9,
     "metadata": {},
     "output_type": "execute_result"
    }
   ],
   "source": [
    "csr.isna()"
   ]
  },
  {
   "cell_type": "code",
   "execution_count": 10,
   "id": "317e5d19",
   "metadata": {
    "execution": {
     "iopub.execute_input": "2023-02-06T11:58:00.794690Z",
     "iopub.status.busy": "2023-02-06T11:58:00.793752Z",
     "iopub.status.idle": "2023-02-06T11:58:01.439462Z",
     "shell.execute_reply": "2023-02-06T11:58:01.438158Z"
    },
    "papermill": {
     "duration": 0.661293,
     "end_time": "2023-02-06T11:58:01.442133",
     "exception": false,
     "start_time": "2023-02-06T11:58:00.780840",
     "status": "completed"
    },
    "tags": []
   },
   "outputs": [
    {
     "data": {
      "text/plain": [
       "Unique Key                             0\n",
       "Created Date                           0\n",
       "Closed Date                         2381\n",
       "Agency                                 0\n",
       "Agency Name                            0\n",
       "Complaint Type                         0\n",
       "Descriptor                          6501\n",
       "Location Type                        133\n",
       "Incident Zip                        2998\n",
       "Incident Address                   51699\n",
       "Street Name                        51699\n",
       "Cross Street 1                     57188\n",
       "Cross Street 2                     57805\n",
       "Intersection Street 1             313438\n",
       "Intersection Street 2             314046\n",
       "Address Type                        3252\n",
       "City                                2997\n",
       "Landmark                          364183\n",
       "Facility Type                       2389\n",
       "Status                                 0\n",
       "Due Date                               3\n",
       "Resolution Description                 0\n",
       "Resolution Action Updated Date      2402\n",
       "Community Board                        0\n",
       "Borough                                0\n",
       "X Coordinate (State Plane)          4030\n",
       "Y Coordinate (State Plane)          4030\n",
       "Park Facility Name                     0\n",
       "Park Borough                           0\n",
       "School Name                            0\n",
       "School Number                          0\n",
       "School Region                          1\n",
       "School Code                            1\n",
       "School Phone Number                    0\n",
       "School Address                         0\n",
       "School City                            0\n",
       "School State                           0\n",
       "School Zip                             1\n",
       "School Not Found                       0\n",
       "School or Citywide Complaint      364558\n",
       "Vehicle Type                      364558\n",
       "Taxi Company Borough              364558\n",
       "Taxi Pick Up Location             364558\n",
       "Bridge Highway Name               364261\n",
       "Bridge Highway Direction          364261\n",
       "Road Ramp                         364296\n",
       "Bridge Highway Segment            364296\n",
       "Garage Lot Name                   364558\n",
       "Ferry Direction                   364557\n",
       "Ferry Terminal Name               364556\n",
       "Latitude                            4030\n",
       "Longitude                           4030\n",
       "Location                            4030\n",
       "dtype: int64"
      ]
     },
     "execution_count": 10,
     "metadata": {},
     "output_type": "execute_result"
    }
   ],
   "source": [
    "csr.isna().sum()"
   ]
  },
  {
   "cell_type": "code",
   "execution_count": 11,
   "id": "67027400",
   "metadata": {
    "execution": {
     "iopub.execute_input": "2023-02-06T11:58:01.467306Z",
     "iopub.status.busy": "2023-02-06T11:58:01.466873Z",
     "iopub.status.idle": "2023-02-06T11:58:01.471964Z",
     "shell.execute_reply": "2023-02-06T11:58:01.470805Z"
    },
    "papermill": {
     "duration": 0.020746,
     "end_time": "2023-02-06T11:58:01.474474",
     "exception": false,
     "start_time": "2023-02-06T11:58:01.453728",
     "status": "completed"
    },
    "tags": []
   },
   "outputs": [],
   "source": [
    "import matplotlib.pyplot as plt"
   ]
  },
  {
   "cell_type": "code",
   "execution_count": 12,
   "id": "c296b54b",
   "metadata": {
    "execution": {
     "iopub.execute_input": "2023-02-06T11:58:01.501761Z",
     "iopub.status.busy": "2023-02-06T11:58:01.500654Z",
     "iopub.status.idle": "2023-02-06T11:58:02.396121Z",
     "shell.execute_reply": "2023-02-06T11:58:02.394739Z"
    },
    "papermill": {
     "duration": 0.912274,
     "end_time": "2023-02-06T11:58:02.398739",
     "exception": false,
     "start_time": "2023-02-06T11:58:01.486465",
     "status": "completed"
    },
    "tags": []
   },
   "outputs": [
    {
     "data": {
      "text/plain": [
       "(array([35.,  4.,  0.,  0.,  0.,  0.,  0.,  0.,  2., 12.]),\n",
       " array([     0. ,  36455.8,  72911.6, 109367.4, 145823.2, 182279. ,\n",
       "        218734.8, 255190.6, 291646.4, 328102.2, 364558. ]),\n",
       " <BarContainer object of 10 artists>)"
      ]
     },
     "execution_count": 12,
     "metadata": {},
     "output_type": "execute_result"
    },
    {
     "data": {
      "image/png": "[encoded data removed]",
      "text/plain": [
       "<Figure size 432x288 with 1 Axes>"
      ]
     },
     "metadata": {
      "needs_background": "light"
     },
     "output_type": "display_data"
    }
   ],
   "source": [
    "plt.hist(csr.isna().sum())"
   ]
  },
  {
   "cell_type": "code",
   "execution_count": 13,
   "id": "a3174e9f",
   "metadata": {
    "execution": {
     "iopub.execute_input": "2023-02-06T11:58:02.424659Z",
     "iopub.status.busy": "2023-02-06T11:58:02.424252Z",
     "iopub.status.idle": "2023-02-06T11:58:03.835005Z",
     "shell.execute_reply": "2023-02-06T11:58:03.833193Z"
    },
    "papermill": {
     "duration": 1.427325,
     "end_time": "2023-02-06T11:58:03.838615",
     "exception": false,
     "start_time": "2023-02-06T11:58:02.411290",
     "status": "completed"
    },
    "tags": []
   },
   "outputs": [
    {
     "data": {
      "text/plain": [
       "[<matplotlib.lines.Line2D at 0x7f59e95ce4d0>]"
      ]
     },
     "execution_count": 13,
     "metadata": {},
     "output_type": "execute_result"
    },
    {
     "data": {
      "image/png": "[encoded data removed]",
      "text/plain": [
       "<Figure size 432x288 with 1 Axes>"
      ]
     },
     "metadata": {
      "needs_background": "light"
     },
     "output_type": "display_data"
    }
   ],
   "source": [
    "plt.plot(csr.isna().sum())"
   ]
  },
  {
   "cell_type": "code",
   "execution_count": 14,
   "id": "bf1470c8",
   "metadata": {
    "execution": {
     "iopub.execute_input": "2023-02-06T11:58:03.873306Z",
     "iopub.status.busy": "2023-02-06T11:58:03.872368Z",
     "iopub.status.idle": "2023-02-06T11:58:03.878957Z",
     "shell.execute_reply": "2023-02-06T11:58:03.877263Z"
    },
    "papermill": {
     "duration": 0.027167,
     "end_time": "2023-02-06T11:58:03.882409",
     "exception": false,
     "start_time": "2023-02-06T11:58:03.855242",
     "status": "completed"
    },
    "tags": []
   },
   "outputs": [],
   "source": [
    "plt.show()"
   ]
  },
  {
   "cell_type": "code",
   "execution_count": 15,
   "id": "284ba67e",
   "metadata": {
    "execution": {
     "iopub.execute_input": "2023-02-06T11:58:03.911493Z",
     "iopub.status.busy": "2023-02-06T11:58:03.911064Z",
     "iopub.status.idle": "2023-02-06T11:58:04.541439Z",
     "shell.execute_reply": "2023-02-06T11:58:04.540346Z"
    },
    "papermill": {
     "duration": 0.648308,
     "end_time": "2023-02-06T11:58:04.545031",
     "exception": false,
     "start_time": "2023-02-06T11:58:03.896723",
     "status": "completed"
    },
    "tags": []
   },
   "outputs": [
    {
     "name": "stdout",
     "output_type": "stream",
     "text": [
      "<class 'pandas.core.series.Series'>\n",
      "<class 'pandas.core.indexes.base.Index'>\n",
      "Index(['Unique Key', 'Created Date', 'Closed Date', 'Agency', 'Agency Name',\n",
      "       'Complaint Type', 'Descriptor', 'Location Type', 'Incident Zip',\n",
      "       'Incident Address', 'Street Name', 'Cross Street 1', 'Cross Street 2',\n",
      "       'Intersection Street 1', 'Intersection Street 2', 'Address Type',\n",
      "       'City', 'Landmark', 'Facility Type', 'Status', 'Due Date',\n",
      "       'Resolution Description', 'Resolution Action Updated Date',\n",
      "       'Community Board', 'Borough', 'X Coordinate (State Plane)',\n",
      "       'Y Coordinate (State Plane)', 'Park Facility Name', 'Park Borough',\n",
      "       'School Name', 'School Number', 'School Region', 'School Code',\n",
      "       'School Phone Number', 'School Address', 'School City', 'School State',\n",
      "       'School Zip', 'School Not Found', 'School or Citywide Complaint',\n",
      "       'Vehicle Type', 'Taxi Company Borough', 'Taxi Pick Up Location',\n",
      "       'Bridge Highway Name', 'Bridge Highway Direction', 'Road Ramp',\n",
      "       'Bridge Highway Segment', 'Garage Lot Name', 'Ferry Direction',\n",
      "       'Ferry Terminal Name', 'Latitude', 'Longitude', 'Location'],\n",
      "      dtype='object')\n"
     ]
    }
   ],
   "source": [
    "csr_null = csr.isna().sum()\n",
    "print(type(csr_null))\n",
    "print(type(csr.columns))\n",
    "print(csr_null.index)"
   ]
  },
  {
   "cell_type": "code",
   "execution_count": 16,
   "id": "2b00c2af",
   "metadata": {
    "execution": {
     "iopub.execute_input": "2023-02-06T11:58:04.573611Z",
     "iopub.status.busy": "2023-02-06T11:58:04.573157Z",
     "iopub.status.idle": "2023-02-06T11:58:05.572067Z",
     "shell.execute_reply": "2023-02-06T11:58:05.570716Z"
    },
    "papermill": {
     "duration": 1.016028,
     "end_time": "2023-02-06T11:58:05.574531",
     "exception": false,
     "start_time": "2023-02-06T11:58:04.558503",
     "status": "completed"
    },
    "tags": []
   },
   "outputs": [
    {
     "data": {
      "text/plain": [
       "<BarContainer object of 53 artists>"
      ]
     },
     "execution_count": 16,
     "metadata": {},
     "output_type": "execute_result"
    },
    {
     "data": {
      "image/png": "[encoded data removed]",
      "text/plain": [
       "<Figure size 432x288 with 1 Axes>"
      ]
     },
     "metadata": {
      "needs_background": "light"
     },
     "output_type": "display_data"
    }
   ],
   "source": [
    "plt.bar(csr_null.index,csr_null)"
   ]
  },
  {
   "cell_type": "code",
   "execution_count": 17,
   "id": "7401ed4a",
   "metadata": {
    "execution": {
     "iopub.execute_input": "2023-02-06T11:58:05.601926Z",
     "iopub.status.busy": "2023-02-06T11:58:05.601473Z",
     "iopub.status.idle": "2023-02-06T11:58:06.782030Z",
     "shell.execute_reply": "2023-02-06T11:58:06.780722Z"
    },
    "papermill": {
     "duration": 1.198518,
     "end_time": "2023-02-06T11:58:06.786044",
     "exception": false,
     "start_time": "2023-02-06T11:58:05.587526",
     "status": "completed"
    },
    "tags": []
   },
   "outputs": [
    {
     "data": {
      "image/png": "[encoded data removed]",
      "text/plain": [
       "<Figure size 720x1440 with 1 Axes>"
      ]
     },
     "metadata": {
      "needs_background": "light"
     },
     "output_type": "display_data"
    }
   ],
   "source": [
    "fig, ax = plt.subplots(figsize=(10,20))\n",
    "ax.barh(csr_null.index,csr_null)\n",
    "ax.grid(visible = True, color ='grey', linestyle ='-.', linewidth = 0.5, alpha = 0.5)\n",
    "\n",
    "for s in ['top', 'bottom', 'left', 'right']:\n",
    "    ax.spines[s].set_visible(False)\n",
    "\n",
    "#ax.xaxis.set_ticks_position('none')\n",
    "#ax.yaxis.set_ticks_position('none')\n",
    "\n",
    "ax.invert_yaxis()\n",
    "\n",
    "for i in ax.patches:\n",
    "    plt.text(i.get_width()+0.2, i.get_y()+0.5,\n",
    "             str(round((i.get_width()), 2)),\n",
    "             fontsize = 10, fontweight ='bold',\n",
    "             color ='grey')\n",
    "\n",
    "plt.show()"
   ]
  },
  {
   "cell_type": "code",
   "execution_count": 18,
   "id": "e40c754c",
   "metadata": {
    "execution": {
     "iopub.execute_input": "2023-02-06T11:58:06.817820Z",
     "iopub.status.busy": "2023-02-06T11:58:06.817420Z",
     "iopub.status.idle": "2023-02-06T11:58:07.113725Z",
     "shell.execute_reply": "2023-02-06T11:58:07.111826Z"
    },
    "papermill": {
     "duration": 0.315064,
     "end_time": "2023-02-06T11:58:07.116316",
     "exception": false,
     "start_time": "2023-02-06T11:58:06.801252",
     "status": "completed"
    },
    "tags": []
   },
   "outputs": [
    {
     "name": "stdout",
     "output_type": "stream",
     "text": [
      "Int64Index([   416,    611,   1648,   1816,   1965,   1987,   2149,   2415,\n",
      "              2541,   2556,\n",
      "            ...\n",
      "            362939, 362943, 363376, 363378, 363614, 363643, 363789, 363805,\n",
      "            364151, 364349],\n",
      "           dtype='int64', length=2381)\n",
      "(364558, 53) (362177, 53)\n"
     ]
    }
   ],
   "source": [
    "#csr['Closed Date'].isnull().sum()\n",
    "csr_cdate_null = csr['Closed Date'].isnull()\n",
    "print(csr_cdate_null[csr_cdate_null==True].index)\n",
    "\n",
    "csr_1 = csr.drop(csr_cdate_null[csr_cdate_null==True].index)\n",
    "\n",
    "print(csr.shape, csr_1.shape)"
   ]
  },
  {
   "cell_type": "code",
   "execution_count": 19,
   "id": "b0bafa04",
   "metadata": {
    "execution": {
     "iopub.execute_input": "2023-02-06T11:58:07.147889Z",
     "iopub.status.busy": "2023-02-06T11:58:07.147498Z",
     "iopub.status.idle": "2023-02-06T11:58:07.177773Z",
     "shell.execute_reply": "2023-02-06T11:58:07.176654Z"
    },
    "papermill": {
     "duration": 0.049079,
     "end_time": "2023-02-06T11:58:07.180395",
     "exception": false,
     "start_time": "2023-02-06T11:58:07.131316",
     "status": "completed"
    },
    "tags": []
   },
   "outputs": [
    {
     "data": {
      "text/html": [
       "<div>\n",
       "<style scoped>\n",
       "    .dataframe tbody tr th:only-of-type {\n",
       "        vertical-align: middle;\n",
       "    }\n",
       "\n",
       "    .dataframe tbody tr th {\n",
       "        vertical-align: top;\n",
       "    }\n",
       "\n",
       "    .dataframe thead th {\n",
       "        text-align: right;\n",
       "    }\n",
       "</style>\n",
       "<table border=\"1\" class=\"dataframe\">\n",
       "  <thead>\n",
       "    <tr style=\"text-align: right;\">\n",
       "      <th></th>\n",
       "      <th>Unique Key</th>\n",
       "      <th>Created Date</th>\n",
       "      <th>Closed Date</th>\n",
       "      <th>Agency</th>\n",
       "      <th>Agency Name</th>\n",
       "      <th>Complaint Type</th>\n",
       "      <th>Descriptor</th>\n",
       "      <th>Location Type</th>\n",
       "      <th>Incident Zip</th>\n",
       "      <th>Incident Address</th>\n",
       "      <th>...</th>\n",
       "      <th>Bridge Highway Name</th>\n",
       "      <th>Bridge Highway Direction</th>\n",
       "      <th>Road Ramp</th>\n",
       "      <th>Bridge Highway Segment</th>\n",
       "      <th>Garage Lot Name</th>\n",
       "      <th>Ferry Direction</th>\n",
       "      <th>Ferry Terminal Name</th>\n",
       "      <th>Latitude</th>\n",
       "      <th>Longitude</th>\n",
       "      <th>Location</th>\n",
       "    </tr>\n",
       "  </thead>\n",
       "  <tbody>\n",
       "    <tr>\n",
       "      <th>0</th>\n",
       "      <td>32310363</td>\n",
       "      <td>12/31/2015 11:59:45 PM</td>\n",
       "      <td>01/01/2016 12:55:15 AM</td>\n",
       "      <td>NYPD</td>\n",
       "      <td>New York City Police Department</td>\n",
       "      <td>Noise - Street/Sidewalk</td>\n",
       "      <td>Loud Music/Party</td>\n",
       "      <td>Street/Sidewalk</td>\n",
       "      <td>10034.0</td>\n",
       "      <td>71 VERMILYEA AVENUE</td>\n",
       "      <td>...</td>\n",
       "      <td>NaN</td>\n",
       "      <td>NaN</td>\n",
       "      <td>NaN</td>\n",
       "      <td>NaN</td>\n",
       "      <td>NaN</td>\n",
       "      <td>NaN</td>\n",
       "      <td>NaN</td>\n",
       "      <td>40.865682</td>\n",
       "      <td>-73.923501</td>\n",
       "      <td>(40.86568153633767, -73.92350095571744)</td>\n",
       "    </tr>\n",
       "    <tr>\n",
       "      <th>1</th>\n",
       "      <td>32309934</td>\n",
       "      <td>12/31/2015 11:59:44 PM</td>\n",
       "      <td>01/01/2016 01:26:57 AM</td>\n",
       "      <td>NYPD</td>\n",
       "      <td>New York City Police Department</td>\n",
       "      <td>Blocked Driveway</td>\n",
       "      <td>No Access</td>\n",
       "      <td>Street/Sidewalk</td>\n",
       "      <td>11105.0</td>\n",
       "      <td>27-07 23 AVENUE</td>\n",
       "      <td>...</td>\n",
       "      <td>NaN</td>\n",
       "      <td>NaN</td>\n",
       "      <td>NaN</td>\n",
       "      <td>NaN</td>\n",
       "      <td>NaN</td>\n",
       "      <td>NaN</td>\n",
       "      <td>NaN</td>\n",
       "      <td>40.775945</td>\n",
       "      <td>-73.915094</td>\n",
       "      <td>(40.775945312321085, -73.91509393898605)</td>\n",
       "    </tr>\n",
       "    <tr>\n",
       "      <th>2</th>\n",
       "      <td>32309159</td>\n",
       "      <td>12/31/2015 11:59:29 PM</td>\n",
       "      <td>01/01/2016 04:51:03 AM</td>\n",
       "      <td>NYPD</td>\n",
       "      <td>New York City Police Department</td>\n",
       "      <td>Blocked Driveway</td>\n",
       "      <td>No Access</td>\n",
       "      <td>Street/Sidewalk</td>\n",
       "      <td>10458.0</td>\n",
       "      <td>2897 VALENTINE AVENUE</td>\n",
       "      <td>...</td>\n",
       "      <td>NaN</td>\n",
       "      <td>NaN</td>\n",
       "      <td>NaN</td>\n",
       "      <td>NaN</td>\n",
       "      <td>NaN</td>\n",
       "      <td>NaN</td>\n",
       "      <td>NaN</td>\n",
       "      <td>40.870325</td>\n",
       "      <td>-73.888525</td>\n",
       "      <td>(40.870324522111424, -73.88852464418646)</td>\n",
       "    </tr>\n",
       "    <tr>\n",
       "      <th>3</th>\n",
       "      <td>32305098</td>\n",
       "      <td>12/31/2015 11:57:46 PM</td>\n",
       "      <td>01/01/2016 07:43:13 AM</td>\n",
       "      <td>NYPD</td>\n",
       "      <td>New York City Police Department</td>\n",
       "      <td>Illegal Parking</td>\n",
       "      <td>Commercial Overnight Parking</td>\n",
       "      <td>Street/Sidewalk</td>\n",
       "      <td>10461.0</td>\n",
       "      <td>2940 BAISLEY AVENUE</td>\n",
       "      <td>...</td>\n",
       "      <td>NaN</td>\n",
       "      <td>NaN</td>\n",
       "      <td>NaN</td>\n",
       "      <td>NaN</td>\n",
       "      <td>NaN</td>\n",
       "      <td>NaN</td>\n",
       "      <td>NaN</td>\n",
       "      <td>40.835994</td>\n",
       "      <td>-73.828379</td>\n",
       "      <td>(40.83599404683083, -73.82837939584206)</td>\n",
       "    </tr>\n",
       "    <tr>\n",
       "      <th>4</th>\n",
       "      <td>32306529</td>\n",
       "      <td>12/31/2015 11:56:58 PM</td>\n",
       "      <td>01/01/2016 03:24:42 AM</td>\n",
       "      <td>NYPD</td>\n",
       "      <td>New York City Police Department</td>\n",
       "      <td>Illegal Parking</td>\n",
       "      <td>Blocked Sidewalk</td>\n",
       "      <td>Street/Sidewalk</td>\n",
       "      <td>11373.0</td>\n",
       "      <td>87-14 57 ROAD</td>\n",
       "      <td>...</td>\n",
       "      <td>NaN</td>\n",
       "      <td>NaN</td>\n",
       "      <td>NaN</td>\n",
       "      <td>NaN</td>\n",
       "      <td>NaN</td>\n",
       "      <td>NaN</td>\n",
       "      <td>NaN</td>\n",
       "      <td>40.733060</td>\n",
       "      <td>-73.874170</td>\n",
       "      <td>(40.733059618956815, -73.87416975810375)</td>\n",
       "    </tr>\n",
       "  </tbody>\n",
       "</table>\n",
       "<p>5 rows × 53 columns</p>\n",
       "</div>"
      ],
      "text/plain": [
       "   Unique Key            Created Date             Closed Date Agency  \\\n",
       "0    32310363  12/31/2015 11:59:45 PM  01/01/2016 12:55:15 AM   NYPD   \n",
       "1    32309934  12/31/2015 11:59:44 PM  01/01/2016 01:26:57 AM   NYPD   \n",
       "2    32309159  12/31/2015 11:59:29 PM  01/01/2016 04:51:03 AM   NYPD   \n",
       "3    32305098  12/31/2015 11:57:46 PM  01/01/2016 07:43:13 AM   NYPD   \n",
       "4    32306529  12/31/2015 11:56:58 PM  01/01/2016 03:24:42 AM   NYPD   \n",
       "\n",
       "                       Agency Name           Complaint Type  \\\n",
       "0  New York City Police Department  Noise - Street/Sidewalk   \n",
       "1  New York City Police Department         Blocked Driveway   \n",
       "2  New York City Police Department         Blocked Driveway   \n",
       "3  New York City Police Department          Illegal Parking   \n",
       "4  New York City Police Department          Illegal Parking   \n",
       "\n",
       "                     Descriptor    Location Type  Incident Zip  \\\n",
       "0              Loud Music/Party  Street/Sidewalk       10034.0   \n",
       "1                     No Access  Street/Sidewalk       11105.0   \n",
       "2                     No Access  Street/Sidewalk       10458.0   \n",
       "3  Commercial Overnight Parking  Street/Sidewalk       10461.0   \n",
       "4              Blocked Sidewalk  Street/Sidewalk       11373.0   \n",
       "\n",
       "        Incident Address  ... Bridge Highway Name Bridge Highway Direction  \\\n",
       "0    71 VERMILYEA AVENUE  ...                 NaN                      NaN   \n",
       "1        27-07 23 AVENUE  ...                 NaN                      NaN   \n",
       "2  2897 VALENTINE AVENUE  ...                 NaN                      NaN   \n",
       "3    2940 BAISLEY AVENUE  ...                 NaN                      NaN   \n",
       "4          87-14 57 ROAD  ...                 NaN                      NaN   \n",
       "\n",
       "  Road Ramp Bridge Highway Segment Garage Lot Name Ferry Direction  \\\n",
       "0       NaN                    NaN             NaN             NaN   \n",
       "1       NaN                    NaN             NaN             NaN   \n",
       "2       NaN                    NaN             NaN             NaN   \n",
       "3       NaN                    NaN             NaN             NaN   \n",
       "4       NaN                    NaN             NaN             NaN   \n",
       "\n",
       "  Ferry Terminal Name   Latitude  Longitude  \\\n",
       "0                 NaN  40.865682 -73.923501   \n",
       "1                 NaN  40.775945 -73.915094   \n",
       "2                 NaN  40.870325 -73.888525   \n",
       "3                 NaN  40.835994 -73.828379   \n",
       "4                 NaN  40.733060 -73.874170   \n",
       "\n",
       "                                   Location  \n",
       "0   (40.86568153633767, -73.92350095571744)  \n",
       "1  (40.775945312321085, -73.91509393898605)  \n",
       "2  (40.870324522111424, -73.88852464418646)  \n",
       "3   (40.83599404683083, -73.82837939584206)  \n",
       "4  (40.733059618956815, -73.87416975810375)  \n",
       "\n",
       "[5 rows x 53 columns]"
      ]
     },
     "execution_count": 19,
     "metadata": {},
     "output_type": "execute_result"
    }
   ],
   "source": [
    "csr.head()"
   ]
  },
  {
   "cell_type": "code",
   "execution_count": 20,
   "id": "e965b48d",
   "metadata": {
    "execution": {
     "iopub.execute_input": "2023-02-06T11:58:07.214152Z",
     "iopub.status.busy": "2023-02-06T11:58:07.213759Z",
     "iopub.status.idle": "2023-02-06T11:58:07.223336Z",
     "shell.execute_reply": "2023-02-06T11:58:07.221999Z"
    },
    "papermill": {
     "duration": 0.029767,
     "end_time": "2023-02-06T11:58:07.225845",
     "exception": false,
     "start_time": "2023-02-06T11:58:07.196078",
     "status": "completed"
    },
    "tags": []
   },
   "outputs": [
    {
     "data": {
      "text/plain": [
       "0         12/31/2015 11:59:45 PM\n",
       "1         12/31/2015 11:59:44 PM\n",
       "2         12/31/2015 11:59:29 PM\n",
       "3         12/31/2015 11:57:46 PM\n",
       "4         12/31/2015 11:56:58 PM\n",
       "                   ...          \n",
       "364553    01/01/2015 12:04:44 AM\n",
       "364554    01/01/2015 12:04:28 AM\n",
       "364555    01/01/2015 12:01:30 AM\n",
       "364556    01/01/2015 12:01:29 AM\n",
       "364557    01/01/2015 12:00:50 AM\n",
       "Name: Created Date, Length: 362177, dtype: object"
      ]
     },
     "execution_count": 20,
     "metadata": {},
     "output_type": "execute_result"
    }
   ],
   "source": [
    "csr_1['Created Date']"
   ]
  },
  {
   "cell_type": "code",
   "execution_count": 21,
   "id": "38067d4c",
   "metadata": {
    "execution": {
     "iopub.execute_input": "2023-02-06T11:58:07.260248Z",
     "iopub.status.busy": "2023-02-06T11:58:07.259834Z",
     "iopub.status.idle": "2023-02-06T11:59:37.916818Z",
     "shell.execute_reply": "2023-02-06T11:59:37.915396Z"
    },
    "papermill": {
     "duration": 90.691046,
     "end_time": "2023-02-06T11:59:37.933507",
     "exception": false,
     "start_time": "2023-02-06T11:58:07.242461",
     "status": "completed"
    },
    "tags": []
   },
   "outputs": [
    {
     "name": "stdout",
     "output_type": "stream",
     "text": [
      "0        0 days 00:55:30\n",
      "1        0 days 01:27:13\n",
      "2        0 days 04:51:34\n",
      "3        0 days 07:45:27\n",
      "4        0 days 03:27:44\n",
      "               ...      \n",
      "364553   0 days 10:17:47\n",
      "364554   0 days 02:20:34\n",
      "364555   0 days 00:19:03\n",
      "364556   0 days 02:40:53\n",
      "364557   0 days 02:47:00\n",
      "Length: 362177, dtype: timedelta64[ns]\n",
      "<class 'pandas.core.series.Series'>\n",
      "timedelta64[ns]\n"
     ]
    }
   ],
   "source": [
    "#print(csr_1['Closed Date'].dtype)\n",
    "#print(type(csr_1['Closed Date']))\n",
    "#print(pd.to_datetime(csr_1[0,'Closed Date']))\n",
    "#print(csr_1.iloc[0]['Created Date'],'\\n',pd.to_datetime(csr_1.iloc[0]['Created Date']))\n",
    "#print('Ok')\n",
    "#print(csr_1['Closed Date'])\n",
    "\n",
    "time_elapsed = pd.to_datetime(csr_1['Closed Date']) - pd.to_datetime(csr_1['Created Date'])\n",
    "print(time_elapsed)\n",
    "print(type(time_elapsed))\n",
    "print(time_elapsed.dtype)\n"
   ]
  },
  {
   "cell_type": "code",
   "execution_count": 22,
   "id": "db9d0138",
   "metadata": {
    "execution": {
     "iopub.execute_input": "2023-02-06T11:59:37.966647Z",
     "iopub.status.busy": "2023-02-06T11:59:37.965937Z",
     "iopub.status.idle": "2023-02-06T11:59:38.613505Z",
     "shell.execute_reply": "2023-02-06T11:59:38.611977Z"
    },
    "papermill": {
     "duration": 0.668317,
     "end_time": "2023-02-06T11:59:38.617326",
     "exception": false,
     "start_time": "2023-02-06T11:59:37.949009",
     "status": "completed"
    },
    "tags": []
   },
   "outputs": [
    {
     "name": "stdout",
     "output_type": "stream",
     "text": [
      "<class 'pandas.core.frame.DataFrame'>\n",
      "RangeIndex: 364558 entries, 0 to 364557\n",
      "Data columns (total 53 columns):\n",
      " #   Column                          Non-Null Count   Dtype  \n",
      "---  ------                          --------------   -----  \n",
      " 0   Unique Key                      364558 non-null  int64  \n",
      " 1   Created Date                    364558 non-null  object \n",
      " 2   Closed Date                     362177 non-null  object \n",
      " 3   Agency                          364558 non-null  object \n",
      " 4   Agency Name                     364558 non-null  object \n",
      " 5   Complaint Type                  364558 non-null  object \n",
      " 6   Descriptor                      358057 non-null  object \n",
      " 7   Location Type                   364425 non-null  object \n",
      " 8   Incident Zip                    361560 non-null  float64\n",
      " 9   Incident Address                312859 non-null  object \n",
      " 10  Street Name                     312859 non-null  object \n",
      " 11  Cross Street 1                  307370 non-null  object \n",
      " 12  Cross Street 2                  306753 non-null  object \n",
      " 13  Intersection Street 1           51120 non-null   object \n",
      " 14  Intersection Street 2           50512 non-null   object \n",
      " 15  Address Type                    361306 non-null  object \n",
      " 16  City                            361561 non-null  object \n",
      " 17  Landmark                        375 non-null     object \n",
      " 18  Facility Type                   362169 non-null  object \n",
      " 19  Status                          364558 non-null  object \n",
      " 20  Due Date                        364555 non-null  object \n",
      " 21  Resolution Description          364558 non-null  object \n",
      " 22  Resolution Action Updated Date  362156 non-null  object \n",
      " 23  Community Board                 364558 non-null  object \n",
      " 24  Borough                         364558 non-null  object \n",
      " 25  X Coordinate (State Plane)      360528 non-null  float64\n",
      " 26  Y Coordinate (State Plane)      360528 non-null  float64\n",
      " 27  Park Facility Name              364558 non-null  object \n",
      " 28  Park Borough                    364558 non-null  object \n",
      " 29  School Name                     364558 non-null  object \n",
      " 30  School Number                   364558 non-null  object \n",
      " 31  School Region                   364557 non-null  object \n",
      " 32  School Code                     364557 non-null  object \n",
      " 33  School Phone Number             364558 non-null  object \n",
      " 34  School Address                  364558 non-null  object \n",
      " 35  School City                     364558 non-null  object \n",
      " 36  School State                    364558 non-null  object \n",
      " 37  School Zip                      364557 non-null  object \n",
      " 38  School Not Found                364558 non-null  object \n",
      " 39  School or Citywide Complaint    0 non-null       float64\n",
      " 40  Vehicle Type                    0 non-null       float64\n",
      " 41  Taxi Company Borough            0 non-null       float64\n",
      " 42  Taxi Pick Up Location           0 non-null       float64\n",
      " 43  Bridge Highway Name             297 non-null     object \n",
      " 44  Bridge Highway Direction        297 non-null     object \n",
      " 45  Road Ramp                       262 non-null     object \n",
      " 46  Bridge Highway Segment          262 non-null     object \n",
      " 47  Garage Lot Name                 0 non-null       float64\n",
      " 48  Ferry Direction                 1 non-null       object \n",
      " 49  Ferry Terminal Name             2 non-null       object \n",
      " 50  Latitude                        360528 non-null  float64\n",
      " 51  Longitude                       360528 non-null  float64\n",
      " 52  Location                        360528 non-null  object \n",
      "dtypes: float64(10), int64(1), object(42)\n",
      "memory usage: 147.4+ MB\n"
     ]
    }
   ],
   "source": [
    "csr.info()"
   ]
  },
  {
   "cell_type": "code",
   "execution_count": 23,
   "id": "33c47bc0",
   "metadata": {
    "execution": {
     "iopub.execute_input": "2023-02-06T11:59:38.653100Z",
     "iopub.status.busy": "2023-02-06T11:59:38.652705Z",
     "iopub.status.idle": "2023-02-06T11:59:39.281511Z",
     "shell.execute_reply": "2023-02-06T11:59:39.280001Z"
    },
    "papermill": {
     "duration": 0.649782,
     "end_time": "2023-02-06T11:59:39.284596",
     "exception": false,
     "start_time": "2023-02-06T11:59:38.634814",
     "status": "completed"
    },
    "tags": []
   },
   "outputs": [
    {
     "name": "stdout",
     "output_type": "stream",
     "text": [
      "<class 'pandas.core.frame.DataFrame'>\n",
      "Int64Index: 362177 entries, 0 to 364557\n",
      "Data columns (total 53 columns):\n",
      " #   Column                          Non-Null Count   Dtype  \n",
      "---  ------                          --------------   -----  \n",
      " 0   Unique Key                      362177 non-null  int64  \n",
      " 1   Created Date                    362177 non-null  object \n",
      " 2   Closed Date                     362177 non-null  object \n",
      " 3   Agency                          362177 non-null  object \n",
      " 4   Agency Name                     362177 non-null  object \n",
      " 5   Complaint Type                  362177 non-null  object \n",
      " 6   Descriptor                      355681 non-null  object \n",
      " 7   Location Type                   362047 non-null  object \n",
      " 8   Incident Zip                    361502 non-null  float64\n",
      " 9   Incident Address                310491 non-null  object \n",
      " 10  Street Name                     310491 non-null  object \n",
      " 11  Cross Street 1                  306846 non-null  object \n",
      " 12  Cross Street 2                  306713 non-null  object \n",
      " 13  Intersection Street 1           50628 non-null   object \n",
      " 14  Intersection Street 2           50504 non-null   object \n",
      " 15  Address Type                    361248 non-null  object \n",
      " 16  City                            361503 non-null  object \n",
      " 17  Landmark                        375 non-null     object \n",
      " 18  Facility Type                   362159 non-null  object \n",
      " 19  Status                          362177 non-null  object \n",
      " 20  Due Date                        362176 non-null  object \n",
      " 21  Resolution Description          362177 non-null  object \n",
      " 22  Resolution Action Updated Date  362138 non-null  object \n",
      " 23  Community Board                 362177 non-null  object \n",
      " 24  Borough                         362177 non-null  object \n",
      " 25  X Coordinate (State Plane)      360470 non-null  float64\n",
      " 26  Y Coordinate (State Plane)      360470 non-null  float64\n",
      " 27  Park Facility Name              362177 non-null  object \n",
      " 28  Park Borough                    362177 non-null  object \n",
      " 29  School Name                     362177 non-null  object \n",
      " 30  School Number                   362177 non-null  object \n",
      " 31  School Region                   362176 non-null  object \n",
      " 32  School Code                     362176 non-null  object \n",
      " 33  School Phone Number             362177 non-null  object \n",
      " 34  School Address                  362177 non-null  object \n",
      " 35  School City                     362177 non-null  object \n",
      " 36  School State                    362177 non-null  object \n",
      " 37  School Zip                      362176 non-null  object \n",
      " 38  School Not Found                362177 non-null  object \n",
      " 39  School or Citywide Complaint    0 non-null       float64\n",
      " 40  Vehicle Type                    0 non-null       float64\n",
      " 41  Taxi Company Borough            0 non-null       float64\n",
      " 42  Taxi Pick Up Location           0 non-null       float64\n",
      " 43  Bridge Highway Name             297 non-null     object \n",
      " 44  Bridge Highway Direction        297 non-null     object \n",
      " 45  Road Ramp                       262 non-null     object \n",
      " 46  Bridge Highway Segment          262 non-null     object \n",
      " 47  Garage Lot Name                 0 non-null       float64\n",
      " 48  Ferry Direction                 0 non-null       object \n",
      " 49  Ferry Terminal Name             0 non-null       object \n",
      " 50  Latitude                        360470 non-null  float64\n",
      " 51  Longitude                       360470 non-null  float64\n",
      " 52  Location                        360470 non-null  object \n",
      "dtypes: float64(10), int64(1), object(42)\n",
      "memory usage: 149.2+ MB\n"
     ]
    }
   ],
   "source": [
    "csr_1.info()"
   ]
  },
  {
   "cell_type": "code",
   "execution_count": 24,
   "id": "fb1e4873",
   "metadata": {
    "execution": {
     "iopub.execute_input": "2023-02-06T11:59:39.317790Z",
     "iopub.status.busy": "2023-02-06T11:59:39.317383Z",
     "iopub.status.idle": "2023-02-06T12:00:25.002273Z",
     "shell.execute_reply": "2023-02-06T12:00:25.000892Z"
    },
    "papermill": {
     "duration": 45.719119,
     "end_time": "2023-02-06T12:00:25.019533",
     "exception": false,
     "start_time": "2023-02-06T11:59:39.300414",
     "status": "completed"
    },
    "tags": []
   },
   "outputs": [
    {
     "data": {
      "text/plain": [
       "0        2016-01-01 00:55:15\n",
       "1        2016-01-01 01:26:57\n",
       "2        2016-01-01 04:51:03\n",
       "3        2016-01-01 07:43:13\n",
       "4        2016-01-01 03:24:42\n",
       "                 ...        \n",
       "364553   2015-01-01 10:22:31\n",
       "364554   2015-01-01 02:25:02\n",
       "364555   2015-01-01 00:20:33\n",
       "364556   2015-01-01 02:42:22\n",
       "364557   2015-01-01 02:47:50\n",
       "Name: Closed Date, Length: 362177, dtype: datetime64[ns]"
      ]
     },
     "execution_count": 24,
     "metadata": {},
     "output_type": "execute_result"
    }
   ],
   "source": [
    "closed_date = pd.to_datetime(csr_1['Closed Date'],errors='coerce')\n",
    "closed_date"
   ]
  },
  {
   "cell_type": "code",
   "execution_count": 25,
   "id": "fd3dcd91",
   "metadata": {
    "execution": {
     "iopub.execute_input": "2023-02-06T12:00:25.053199Z",
     "iopub.status.busy": "2023-02-06T12:00:25.052730Z",
     "iopub.status.idle": "2023-02-06T12:01:10.197811Z",
     "shell.execute_reply": "2023-02-06T12:01:10.196327Z"
    },
    "papermill": {
     "duration": 45.181221,
     "end_time": "2023-02-06T12:01:10.216710",
     "exception": false,
     "start_time": "2023-02-06T12:00:25.035489",
     "status": "completed"
    },
    "tags": []
   },
   "outputs": [
    {
     "data": {
      "text/plain": [
       "0        2015-12-31 23:59:45\n",
       "1        2015-12-31 23:59:44\n",
       "2        2015-12-31 23:59:29\n",
       "3        2015-12-31 23:57:46\n",
       "4        2015-12-31 23:56:58\n",
       "                 ...        \n",
       "364553   2015-01-01 00:04:44\n",
       "364554   2015-01-01 00:04:28\n",
       "364555   2015-01-01 00:01:30\n",
       "364556   2015-01-01 00:01:29\n",
       "364557   2015-01-01 00:00:50\n",
       "Name: Created Date, Length: 362177, dtype: datetime64[ns]"
      ]
     },
     "execution_count": 25,
     "metadata": {},
     "output_type": "execute_result"
    }
   ],
   "source": [
    "created_date = pd.to_datetime(csr_1['Created Date'],errors='coerce')\n",
    "created_date"
   ]
  },
  {
   "cell_type": "code",
   "execution_count": 26,
   "id": "1e1789ac",
   "metadata": {
    "execution": {
     "iopub.execute_input": "2023-02-06T12:01:10.251024Z",
     "iopub.status.busy": "2023-02-06T12:01:10.250603Z",
     "iopub.status.idle": "2023-02-06T12:01:10.260688Z",
     "shell.execute_reply": "2023-02-06T12:01:10.259315Z"
    },
    "papermill": {
     "duration": 0.03071,
     "end_time": "2023-02-06T12:01:10.263644",
     "exception": false,
     "start_time": "2023-02-06T12:01:10.232934",
     "status": "completed"
    },
    "tags": []
   },
   "outputs": [
    {
     "data": {
      "text/plain": [
       "Series([], Name: Closed Date, dtype: datetime64[ns])"
      ]
     },
     "execution_count": 26,
     "metadata": {},
     "output_type": "execute_result"
    }
   ],
   "source": [
    "closed_date[closed_date == 'NaT']\n",
    "#this might not be correct\n",
    "\n",
    "#closed_date.np.isnat().sum() --- this is wrong"
   ]
  },
  {
   "cell_type": "code",
   "execution_count": 27,
   "id": "be12a718",
   "metadata": {
    "execution": {
     "iopub.execute_input": "2023-02-06T12:01:10.298404Z",
     "iopub.status.busy": "2023-02-06T12:01:10.297960Z",
     "iopub.status.idle": "2023-02-06T12:01:10.306074Z",
     "shell.execute_reply": "2023-02-06T12:01:10.304814Z"
    },
    "papermill": {
     "duration": 0.028176,
     "end_time": "2023-02-06T12:01:10.308372",
     "exception": false,
     "start_time": "2023-02-06T12:01:10.280196",
     "status": "completed"
    },
    "tags": []
   },
   "outputs": [
    {
     "name": "stdout",
     "output_type": "stream",
     "text": [
      "0 0\n"
     ]
    }
   ],
   "source": [
    "#created_date[created_date == 'NaT']\n",
    "print(np.isnat(created_date).sum(), np.isnat(closed_date).sum())"
   ]
  },
  {
   "cell_type": "code",
   "execution_count": 28,
   "id": "45b9a3f2",
   "metadata": {
    "execution": {
     "iopub.execute_input": "2023-02-06T12:01:10.343151Z",
     "iopub.status.busy": "2023-02-06T12:01:10.342628Z",
     "iopub.status.idle": "2023-02-06T12:01:10.356227Z",
     "shell.execute_reply": "2023-02-06T12:01:10.354768Z"
    },
    "papermill": {
     "duration": 0.034178,
     "end_time": "2023-02-06T12:01:10.359037",
     "exception": false,
     "start_time": "2023-02-06T12:01:10.324859",
     "status": "completed"
    },
    "tags": []
   },
   "outputs": [
    {
     "data": {
      "text/plain": [
       "0        0 days 00:55:30\n",
       "1        0 days 01:27:13\n",
       "2        0 days 04:51:34\n",
       "3        0 days 07:45:27\n",
       "4        0 days 03:27:44\n",
       "               ...      \n",
       "364553   0 days 10:17:47\n",
       "364554   0 days 02:20:34\n",
       "364555   0 days 00:19:03\n",
       "364556   0 days 02:40:53\n",
       "364557   0 days 02:47:00\n",
       "Length: 362177, dtype: timedelta64[ns]"
      ]
     },
     "execution_count": 28,
     "metadata": {},
     "output_type": "execute_result"
    }
   ],
   "source": [
    "time_elapsed = closed_date - created_date\n",
    "time_elapsed"
   ]
  },
  {
   "cell_type": "code",
   "execution_count": 29,
   "id": "2762b2ce",
   "metadata": {
    "execution": {
     "iopub.execute_input": "2023-02-06T12:01:10.394427Z",
     "iopub.status.busy": "2023-02-06T12:01:10.393990Z",
     "iopub.status.idle": "2023-02-06T12:01:10.405148Z",
     "shell.execute_reply": "2023-02-06T12:01:10.403933Z"
    },
    "papermill": {
     "duration": 0.031984,
     "end_time": "2023-02-06T12:01:10.408023",
     "exception": false,
     "start_time": "2023-02-06T12:01:10.376039",
     "status": "completed"
    },
    "tags": []
   },
   "outputs": [
    {
     "data": {
      "text/plain": [
       "Series([], dtype: timedelta64[ns])"
      ]
     },
     "execution_count": 29,
     "metadata": {},
     "output_type": "execute_result"
    }
   ],
   "source": [
    "time_elapsed[time_elapsed.dt.total_seconds() < 0]"
   ]
  },
  {
   "cell_type": "code",
   "execution_count": 30,
   "id": "1b0b642b",
   "metadata": {
    "execution": {
     "iopub.execute_input": "2023-02-06T12:01:10.443688Z",
     "iopub.status.busy": "2023-02-06T12:01:10.443267Z",
     "iopub.status.idle": "2023-02-06T12:01:10.449970Z",
     "shell.execute_reply": "2023-02-06T12:01:10.449137Z"
    },
    "papermill": {
     "duration": 0.027333,
     "end_time": "2023-02-06T12:01:10.452296",
     "exception": false,
     "start_time": "2023-02-06T12:01:10.424963",
     "status": "completed"
    },
    "tags": []
   },
   "outputs": [],
   "source": [
    "time_elapsed = time_elapsed.dt.total_seconds()"
   ]
  },
  {
   "cell_type": "code",
   "execution_count": 31,
   "id": "76a143e4",
   "metadata": {
    "execution": {
     "iopub.execute_input": "2023-02-06T12:01:10.487809Z",
     "iopub.status.busy": "2023-02-06T12:01:10.487381Z",
     "iopub.status.idle": "2023-02-06T12:01:10.496990Z",
     "shell.execute_reply": "2023-02-06T12:01:10.495632Z"
    },
    "papermill": {
     "duration": 0.03049,
     "end_time": "2023-02-06T12:01:10.499527",
     "exception": false,
     "start_time": "2023-02-06T12:01:10.469037",
     "status": "completed"
    },
    "tags": []
   },
   "outputs": [
    {
     "data": {
      "text/plain": [
       "0          3330.0\n",
       "1          5233.0\n",
       "2         17494.0\n",
       "3         27927.0\n",
       "4         12464.0\n",
       "           ...   \n",
       "364553    37067.0\n",
       "364554     8434.0\n",
       "364555     1143.0\n",
       "364556     9653.0\n",
       "364557    10020.0\n",
       "Length: 362177, dtype: float64"
      ]
     },
     "execution_count": 31,
     "metadata": {},
     "output_type": "execute_result"
    }
   ],
   "source": [
    "time_elapsed"
   ]
  },
  {
   "cell_type": "code",
   "execution_count": 32,
   "id": "1df26c77",
   "metadata": {
    "execution": {
     "iopub.execute_input": "2023-02-06T12:01:10.535307Z",
     "iopub.status.busy": "2023-02-06T12:01:10.534787Z",
     "iopub.status.idle": "2023-02-06T12:01:10.563229Z",
     "shell.execute_reply": "2023-02-06T12:01:10.561563Z"
    },
    "papermill": {
     "duration": 0.049524,
     "end_time": "2023-02-06T12:01:10.565947",
     "exception": false,
     "start_time": "2023-02-06T12:01:10.516423",
     "status": "completed"
    },
    "tags": []
   },
   "outputs": [
    {
     "data": {
      "text/plain": [
       "count    3.621770e+05\n",
       "mean     1.511330e+04\n",
       "std      2.110255e+04\n",
       "min      6.100000e+01\n",
       "25%      4.533000e+03\n",
       "50%      9.616000e+03\n",
       "75%      1.887800e+04\n",
       "max      2.134342e+06\n",
       "dtype: float64"
      ]
     },
     "execution_count": 32,
     "metadata": {},
     "output_type": "execute_result"
    }
   ],
   "source": [
    "time_elapsed.describe()"
   ]
  },
  {
   "cell_type": "code",
   "execution_count": 33,
   "id": "dbc522c4",
   "metadata": {
    "execution": {
     "iopub.execute_input": "2023-02-06T12:01:10.602003Z",
     "iopub.status.busy": "2023-02-06T12:01:10.601591Z",
     "iopub.status.idle": "2023-02-06T12:01:10.624381Z",
     "shell.execute_reply": "2023-02-06T12:01:10.623473Z"
    },
    "papermill": {
     "duration": 0.043722,
     "end_time": "2023-02-06T12:01:10.626566",
     "exception": false,
     "start_time": "2023-02-06T12:01:10.582844",
     "status": "completed"
    },
    "tags": []
   },
   "outputs": [
    {
     "data": {
      "text/plain": [
       "0"
      ]
     },
     "execution_count": 33,
     "metadata": {},
     "output_type": "execute_result"
    }
   ],
   "source": [
    "csr_1['Complaint Type'].isna().sum()"
   ]
  },
  {
   "cell_type": "code",
   "execution_count": 34,
   "id": "13e8d34f",
   "metadata": {
    "execution": {
     "iopub.execute_input": "2023-02-06T12:01:10.663257Z",
     "iopub.status.busy": "2023-02-06T12:01:10.662714Z",
     "iopub.status.idle": "2023-02-06T12:01:10.686511Z",
     "shell.execute_reply": "2023-02-06T12:01:10.685433Z"
    },
    "papermill": {
     "duration": 0.044734,
     "end_time": "2023-02-06T12:01:10.688806",
     "exception": false,
     "start_time": "2023-02-06T12:01:10.644072",
     "status": "completed"
    },
    "tags": []
   },
   "outputs": [
    {
     "data": {
      "text/plain": [
       "674"
      ]
     },
     "execution_count": 34,
     "metadata": {},
     "output_type": "execute_result"
    }
   ],
   "source": [
    "#csr_1['City'].isna().sum()\n",
    "pd.isna(csr_1['City']).sum()\n",
    "\n",
    "#both are correct"
   ]
  },
  {
   "cell_type": "code",
   "execution_count": 35,
   "id": "4ac5acc2",
   "metadata": {
    "execution": {
     "iopub.execute_input": "2023-02-06T12:01:10.725001Z",
     "iopub.status.busy": "2023-02-06T12:01:10.724593Z",
     "iopub.status.idle": "2023-02-06T12:01:10.780545Z",
     "shell.execute_reply": "2023-02-06T12:01:10.779169Z"
    },
    "papermill": {
     "duration": 0.077167,
     "end_time": "2023-02-06T12:01:10.783189",
     "exception": false,
     "start_time": "2023-02-06T12:01:10.706022",
     "status": "completed"
    },
    "tags": []
   },
   "outputs": [
    {
     "data": {
      "text/html": [
       "<div>\n",
       "<style scoped>\n",
       "    .dataframe tbody tr th:only-of-type {\n",
       "        vertical-align: middle;\n",
       "    }\n",
       "\n",
       "    .dataframe tbody tr th {\n",
       "        vertical-align: top;\n",
       "    }\n",
       "\n",
       "    .dataframe thead th {\n",
       "        text-align: right;\n",
       "    }\n",
       "</style>\n",
       "<table border=\"1\" class=\"dataframe\">\n",
       "  <thead>\n",
       "    <tr style=\"text-align: right;\">\n",
       "      <th></th>\n",
       "      <th>Unique Key</th>\n",
       "      <th>Created Date</th>\n",
       "      <th>Closed Date</th>\n",
       "      <th>Agency</th>\n",
       "      <th>Agency Name</th>\n",
       "      <th>Complaint Type</th>\n",
       "      <th>Descriptor</th>\n",
       "      <th>Location Type</th>\n",
       "      <th>Incident Zip</th>\n",
       "      <th>Incident Address</th>\n",
       "      <th>...</th>\n",
       "      <th>Bridge Highway Name</th>\n",
       "      <th>Bridge Highway Direction</th>\n",
       "      <th>Road Ramp</th>\n",
       "      <th>Bridge Highway Segment</th>\n",
       "      <th>Garage Lot Name</th>\n",
       "      <th>Ferry Direction</th>\n",
       "      <th>Ferry Terminal Name</th>\n",
       "      <th>Latitude</th>\n",
       "      <th>Longitude</th>\n",
       "      <th>Location</th>\n",
       "    </tr>\n",
       "  </thead>\n",
       "  <tbody>\n",
       "    <tr>\n",
       "      <th>33</th>\n",
       "      <td>32306700</td>\n",
       "      <td>12/31/2015 11:18:10 PM</td>\n",
       "      <td>01/02/2016 01:04:03 AM</td>\n",
       "      <td>NYPD</td>\n",
       "      <td>New York City Police Department</td>\n",
       "      <td>Illegal Parking</td>\n",
       "      <td>Double Parked Blocking Traffic</td>\n",
       "      <td>Street/Sidewalk</td>\n",
       "      <td>NaN</td>\n",
       "      <td>25-0-25-54 12TH STREET</td>\n",
       "      <td>...</td>\n",
       "      <td>NaN</td>\n",
       "      <td>NaN</td>\n",
       "      <td>NaN</td>\n",
       "      <td>NaN</td>\n",
       "      <td>NaN</td>\n",
       "      <td>NaN</td>\n",
       "      <td>NaN</td>\n",
       "      <td>NaN</td>\n",
       "      <td>NaN</td>\n",
       "      <td>NaN</td>\n",
       "    </tr>\n",
       "    <tr>\n",
       "      <th>283</th>\n",
       "      <td>32309451</td>\n",
       "      <td>12/31/2015 05:40:16 PM</td>\n",
       "      <td>01/01/2016 10:59:11 AM</td>\n",
       "      <td>NYPD</td>\n",
       "      <td>New York City Police Department</td>\n",
       "      <td>Illegal Parking</td>\n",
       "      <td>Blocked Hydrant</td>\n",
       "      <td>Street/Sidewalk</td>\n",
       "      <td>NaN</td>\n",
       "      <td>72-23-72-2 72ND PLACE</td>\n",
       "      <td>...</td>\n",
       "      <td>NaN</td>\n",
       "      <td>NaN</td>\n",
       "      <td>NaN</td>\n",
       "      <td>NaN</td>\n",
       "      <td>NaN</td>\n",
       "      <td>NaN</td>\n",
       "      <td>NaN</td>\n",
       "      <td>NaN</td>\n",
       "      <td>NaN</td>\n",
       "      <td>NaN</td>\n",
       "    </tr>\n",
       "    <tr>\n",
       "      <th>302</th>\n",
       "      <td>32309860</td>\n",
       "      <td>12/31/2015 05:05:30 PM</td>\n",
       "      <td>01/01/2016 08:17:35 AM</td>\n",
       "      <td>NYPD</td>\n",
       "      <td>New York City Police Department</td>\n",
       "      <td>Blocked Driveway</td>\n",
       "      <td>Partial Access</td>\n",
       "      <td>Street/Sidewalk</td>\n",
       "      <td>NaN</td>\n",
       "      <td>9-15-9-99 CORNAGA AVENUE</td>\n",
       "      <td>...</td>\n",
       "      <td>NaN</td>\n",
       "      <td>NaN</td>\n",
       "      <td>NaN</td>\n",
       "      <td>NaN</td>\n",
       "      <td>NaN</td>\n",
       "      <td>NaN</td>\n",
       "      <td>NaN</td>\n",
       "      <td>NaN</td>\n",
       "      <td>NaN</td>\n",
       "      <td>NaN</td>\n",
       "    </tr>\n",
       "    <tr>\n",
       "      <th>1421</th>\n",
       "      <td>32299438</td>\n",
       "      <td>12/30/2015 11:55:25 AM</td>\n",
       "      <td>12/30/2015 02:35:54 PM</td>\n",
       "      <td>NYPD</td>\n",
       "      <td>New York City Police Department</td>\n",
       "      <td>Illegal Parking</td>\n",
       "      <td>Blocked Sidewalk</td>\n",
       "      <td>Street/Sidewalk</td>\n",
       "      <td>NaN</td>\n",
       "      <td>101 STREET</td>\n",
       "      <td>...</td>\n",
       "      <td>NaN</td>\n",
       "      <td>NaN</td>\n",
       "      <td>NaN</td>\n",
       "      <td>NaN</td>\n",
       "      <td>NaN</td>\n",
       "      <td>NaN</td>\n",
       "      <td>NaN</td>\n",
       "      <td>NaN</td>\n",
       "      <td>NaN</td>\n",
       "      <td>NaN</td>\n",
       "    </tr>\n",
       "    <tr>\n",
       "      <th>2131</th>\n",
       "      <td>32294310</td>\n",
       "      <td>12/29/2015 02:53:28 PM</td>\n",
       "      <td>12/29/2015 05:46:06 PM</td>\n",
       "      <td>NYPD</td>\n",
       "      <td>New York City Police Department</td>\n",
       "      <td>Illegal Parking</td>\n",
       "      <td>Posted Parking Sign Violation</td>\n",
       "      <td>Street/Sidewalk</td>\n",
       "      <td>NaN</td>\n",
       "      <td>3300-3398 37TH AVE</td>\n",
       "      <td>...</td>\n",
       "      <td>NaN</td>\n",
       "      <td>NaN</td>\n",
       "      <td>NaN</td>\n",
       "      <td>NaN</td>\n",
       "      <td>NaN</td>\n",
       "      <td>NaN</td>\n",
       "      <td>NaN</td>\n",
       "      <td>NaN</td>\n",
       "      <td>NaN</td>\n",
       "      <td>NaN</td>\n",
       "    </tr>\n",
       "    <tr>\n",
       "      <th>...</th>\n",
       "      <td>...</td>\n",
       "      <td>...</td>\n",
       "      <td>...</td>\n",
       "      <td>...</td>\n",
       "      <td>...</td>\n",
       "      <td>...</td>\n",
       "      <td>...</td>\n",
       "      <td>...</td>\n",
       "      <td>...</td>\n",
       "      <td>...</td>\n",
       "      <td>...</td>\n",
       "      <td>...</td>\n",
       "      <td>...</td>\n",
       "      <td>...</td>\n",
       "      <td>...</td>\n",
       "      <td>...</td>\n",
       "      <td>...</td>\n",
       "      <td>...</td>\n",
       "      <td>...</td>\n",
       "      <td>...</td>\n",
       "      <td>...</td>\n",
       "    </tr>\n",
       "    <tr>\n",
       "      <th>361851</th>\n",
       "      <td>29633795</td>\n",
       "      <td>01/04/2015 11:19:28 PM</td>\n",
       "      <td>01/05/2015 10:13:06 AM</td>\n",
       "      <td>NYPD</td>\n",
       "      <td>New York City Police Department</td>\n",
       "      <td>Blocked Driveway</td>\n",
       "      <td>No Access</td>\n",
       "      <td>Street/Sidewalk</td>\n",
       "      <td>NaN</td>\n",
       "      <td>25-40-25-4 48TH STREET</td>\n",
       "      <td>...</td>\n",
       "      <td>NaN</td>\n",
       "      <td>NaN</td>\n",
       "      <td>NaN</td>\n",
       "      <td>NaN</td>\n",
       "      <td>NaN</td>\n",
       "      <td>NaN</td>\n",
       "      <td>NaN</td>\n",
       "      <td>NaN</td>\n",
       "      <td>NaN</td>\n",
       "      <td>NaN</td>\n",
       "    </tr>\n",
       "    <tr>\n",
       "      <th>361912</th>\n",
       "      <td>29632589</td>\n",
       "      <td>01/04/2015 09:20:56 PM</td>\n",
       "      <td>01/05/2015 01:46:10 PM</td>\n",
       "      <td>NYPD</td>\n",
       "      <td>New York City Police Department</td>\n",
       "      <td>Illegal Parking</td>\n",
       "      <td>Blocked Hydrant</td>\n",
       "      <td>Street/Sidewalk</td>\n",
       "      <td>NaN</td>\n",
       "      <td>47-22-47-9 216TH STREET</td>\n",
       "      <td>...</td>\n",
       "      <td>NaN</td>\n",
       "      <td>NaN</td>\n",
       "      <td>NaN</td>\n",
       "      <td>NaN</td>\n",
       "      <td>NaN</td>\n",
       "      <td>NaN</td>\n",
       "      <td>NaN</td>\n",
       "      <td>NaN</td>\n",
       "      <td>NaN</td>\n",
       "      <td>NaN</td>\n",
       "    </tr>\n",
       "    <tr>\n",
       "      <th>361975</th>\n",
       "      <td>29633040</td>\n",
       "      <td>01/04/2015 08:04:21 PM</td>\n",
       "      <td>01/05/2015 01:07:15 PM</td>\n",
       "      <td>NYPD</td>\n",
       "      <td>New York City Police Department</td>\n",
       "      <td>Noise - Commercial</td>\n",
       "      <td>Car/Truck Horn</td>\n",
       "      <td>Store/Commercial</td>\n",
       "      <td>NaN</td>\n",
       "      <td>58-28-58-9 99TH STREET</td>\n",
       "      <td>...</td>\n",
       "      <td>NaN</td>\n",
       "      <td>NaN</td>\n",
       "      <td>NaN</td>\n",
       "      <td>NaN</td>\n",
       "      <td>NaN</td>\n",
       "      <td>NaN</td>\n",
       "      <td>NaN</td>\n",
       "      <td>NaN</td>\n",
       "      <td>NaN</td>\n",
       "      <td>NaN</td>\n",
       "    </tr>\n",
       "    <tr>\n",
       "      <th>362048</th>\n",
       "      <td>29633311</td>\n",
       "      <td>01/04/2015 06:21:17 PM</td>\n",
       "      <td>01/06/2015 08:26:39 AM</td>\n",
       "      <td>NYPD</td>\n",
       "      <td>New York City Police Department</td>\n",
       "      <td>Blocked Driveway</td>\n",
       "      <td>No Access</td>\n",
       "      <td>Street/Sidewalk</td>\n",
       "      <td>NaN</td>\n",
       "      <td>26000-2609 79TH AVE</td>\n",
       "      <td>...</td>\n",
       "      <td>NaN</td>\n",
       "      <td>NaN</td>\n",
       "      <td>NaN</td>\n",
       "      <td>NaN</td>\n",
       "      <td>NaN</td>\n",
       "      <td>NaN</td>\n",
       "      <td>NaN</td>\n",
       "      <td>NaN</td>\n",
       "      <td>NaN</td>\n",
       "      <td>NaN</td>\n",
       "    </tr>\n",
       "    <tr>\n",
       "      <th>364053</th>\n",
       "      <td>29618280</td>\n",
       "      <td>01/01/2015 07:24:31 PM</td>\n",
       "      <td>01/01/2015 11:44:53 PM</td>\n",
       "      <td>NYPD</td>\n",
       "      <td>New York City Police Department</td>\n",
       "      <td>Blocked Driveway</td>\n",
       "      <td>No Access</td>\n",
       "      <td>Street/Sidewalk</td>\n",
       "      <td>NaN</td>\n",
       "      <td>106 STREET</td>\n",
       "      <td>...</td>\n",
       "      <td>NaN</td>\n",
       "      <td>NaN</td>\n",
       "      <td>NaN</td>\n",
       "      <td>NaN</td>\n",
       "      <td>NaN</td>\n",
       "      <td>NaN</td>\n",
       "      <td>NaN</td>\n",
       "      <td>NaN</td>\n",
       "      <td>NaN</td>\n",
       "      <td>NaN</td>\n",
       "    </tr>\n",
       "  </tbody>\n",
       "</table>\n",
       "<p>674 rows × 53 columns</p>\n",
       "</div>"
      ],
      "text/plain": [
       "        Unique Key            Created Date             Closed Date Agency  \\\n",
       "33        32306700  12/31/2015 11:18:10 PM  01/02/2016 01:04:03 AM   NYPD   \n",
       "283       32309451  12/31/2015 05:40:16 PM  01/01/2016 10:59:11 AM   NYPD   \n",
       "302       32309860  12/31/2015 05:05:30 PM  01/01/2016 08:17:35 AM   NYPD   \n",
       "1421      32299438  12/30/2015 11:55:25 AM  12/30/2015 02:35:54 PM   NYPD   \n",
       "2131      32294310  12/29/2015 02:53:28 PM  12/29/2015 05:46:06 PM   NYPD   \n",
       "...            ...                     ...                     ...    ...   \n",
       "361851    29633795  01/04/2015 11:19:28 PM  01/05/2015 10:13:06 AM   NYPD   \n",
       "361912    29632589  01/04/2015 09:20:56 PM  01/05/2015 01:46:10 PM   NYPD   \n",
       "361975    29633040  01/04/2015 08:04:21 PM  01/05/2015 01:07:15 PM   NYPD   \n",
       "362048    29633311  01/04/2015 06:21:17 PM  01/06/2015 08:26:39 AM   NYPD   \n",
       "364053    29618280  01/01/2015 07:24:31 PM  01/01/2015 11:44:53 PM   NYPD   \n",
       "\n",
       "                            Agency Name      Complaint Type  \\\n",
       "33      New York City Police Department     Illegal Parking   \n",
       "283     New York City Police Department     Illegal Parking   \n",
       "302     New York City Police Department    Blocked Driveway   \n",
       "1421    New York City Police Department     Illegal Parking   \n",
       "2131    New York City Police Department     Illegal Parking   \n",
       "...                                 ...                 ...   \n",
       "361851  New York City Police Department    Blocked Driveway   \n",
       "361912  New York City Police Department     Illegal Parking   \n",
       "361975  New York City Police Department  Noise - Commercial   \n",
       "362048  New York City Police Department    Blocked Driveway   \n",
       "364053  New York City Police Department    Blocked Driveway   \n",
       "\n",
       "                            Descriptor     Location Type  Incident Zip  \\\n",
       "33      Double Parked Blocking Traffic   Street/Sidewalk           NaN   \n",
       "283                    Blocked Hydrant   Street/Sidewalk           NaN   \n",
       "302                     Partial Access   Street/Sidewalk           NaN   \n",
       "1421                  Blocked Sidewalk   Street/Sidewalk           NaN   \n",
       "2131     Posted Parking Sign Violation   Street/Sidewalk           NaN   \n",
       "...                                ...               ...           ...   \n",
       "361851                       No Access   Street/Sidewalk           NaN   \n",
       "361912                 Blocked Hydrant   Street/Sidewalk           NaN   \n",
       "361975                  Car/Truck Horn  Store/Commercial           NaN   \n",
       "362048                       No Access   Street/Sidewalk           NaN   \n",
       "364053                       No Access   Street/Sidewalk           NaN   \n",
       "\n",
       "                Incident Address  ... Bridge Highway Name  \\\n",
       "33        25-0-25-54 12TH STREET  ...                 NaN   \n",
       "283        72-23-72-2 72ND PLACE  ...                 NaN   \n",
       "302     9-15-9-99 CORNAGA AVENUE  ...                 NaN   \n",
       "1421                  101 STREET  ...                 NaN   \n",
       "2131          3300-3398 37TH AVE  ...                 NaN   \n",
       "...                          ...  ...                 ...   \n",
       "361851    25-40-25-4 48TH STREET  ...                 NaN   \n",
       "361912   47-22-47-9 216TH STREET  ...                 NaN   \n",
       "361975    58-28-58-9 99TH STREET  ...                 NaN   \n",
       "362048       26000-2609 79TH AVE  ...                 NaN   \n",
       "364053                106 STREET  ...                 NaN   \n",
       "\n",
       "       Bridge Highway Direction Road Ramp Bridge Highway Segment  \\\n",
       "33                          NaN       NaN                    NaN   \n",
       "283                         NaN       NaN                    NaN   \n",
       "302                         NaN       NaN                    NaN   \n",
       "1421                        NaN       NaN                    NaN   \n",
       "2131                        NaN       NaN                    NaN   \n",
       "...                         ...       ...                    ...   \n",
       "361851                      NaN       NaN                    NaN   \n",
       "361912                      NaN       NaN                    NaN   \n",
       "361975                      NaN       NaN                    NaN   \n",
       "362048                      NaN       NaN                    NaN   \n",
       "364053                      NaN       NaN                    NaN   \n",
       "\n",
       "       Garage Lot Name Ferry Direction Ferry Terminal Name Latitude Longitude  \\\n",
       "33                 NaN             NaN                 NaN      NaN       NaN   \n",
       "283                NaN             NaN                 NaN      NaN       NaN   \n",
       "302                NaN             NaN                 NaN      NaN       NaN   \n",
       "1421               NaN             NaN                 NaN      NaN       NaN   \n",
       "2131               NaN             NaN                 NaN      NaN       NaN   \n",
       "...                ...             ...                 ...      ...       ...   \n",
       "361851             NaN             NaN                 NaN      NaN       NaN   \n",
       "361912             NaN             NaN                 NaN      NaN       NaN   \n",
       "361975             NaN             NaN                 NaN      NaN       NaN   \n",
       "362048             NaN             NaN                 NaN      NaN       NaN   \n",
       "364053             NaN             NaN                 NaN      NaN       NaN   \n",
       "\n",
       "       Location  \n",
       "33          NaN  \n",
       "283         NaN  \n",
       "302         NaN  \n",
       "1421        NaN  \n",
       "2131        NaN  \n",
       "...         ...  \n",
       "361851      NaN  \n",
       "361912      NaN  \n",
       "361975      NaN  \n",
       "362048      NaN  \n",
       "364053      NaN  \n",
       "\n",
       "[674 rows x 53 columns]"
      ]
     },
     "execution_count": 35,
     "metadata": {},
     "output_type": "execute_result"
    }
   ],
   "source": [
    "csr_1[csr_1['City'].isna()]"
   ]
  },
  {
   "cell_type": "code",
   "execution_count": 36,
   "id": "2d1a96b5",
   "metadata": {
    "execution": {
     "iopub.execute_input": "2023-02-06T12:01:10.820289Z",
     "iopub.status.busy": "2023-02-06T12:01:10.819551Z",
     "iopub.status.idle": "2023-02-06T12:01:10.849058Z",
     "shell.execute_reply": "2023-02-06T12:01:10.847545Z"
    },
    "papermill": {
     "duration": 0.051242,
     "end_time": "2023-02-06T12:01:10.852082",
     "exception": false,
     "start_time": "2023-02-06T12:01:10.800840",
     "status": "completed"
    },
    "tags": []
   },
   "outputs": [],
   "source": [
    "csr_1['City'].fillna('Unknown City',inplace=True)"
   ]
  },
  {
   "cell_type": "code",
   "execution_count": 37,
   "id": "2ed4a3c5",
   "metadata": {
    "execution": {
     "iopub.execute_input": "2023-02-06T12:01:10.900830Z",
     "iopub.status.busy": "2023-02-06T12:01:10.899867Z",
     "iopub.status.idle": "2023-02-06T12:01:10.944199Z",
     "shell.execute_reply": "2023-02-06T12:01:10.942896Z"
    },
    "papermill": {
     "duration": 0.076041,
     "end_time": "2023-02-06T12:01:10.947100",
     "exception": false,
     "start_time": "2023-02-06T12:01:10.871059",
     "status": "completed"
    },
    "tags": []
   },
   "outputs": [
    {
     "data": {
      "text/html": [
       "<div>\n",
       "<style scoped>\n",
       "    .dataframe tbody tr th:only-of-type {\n",
       "        vertical-align: middle;\n",
       "    }\n",
       "\n",
       "    .dataframe tbody tr th {\n",
       "        vertical-align: top;\n",
       "    }\n",
       "\n",
       "    .dataframe thead th {\n",
       "        text-align: right;\n",
       "    }\n",
       "</style>\n",
       "<table border=\"1\" class=\"dataframe\">\n",
       "  <thead>\n",
       "    <tr style=\"text-align: right;\">\n",
       "      <th></th>\n",
       "      <th>Unique Key</th>\n",
       "      <th>Created Date</th>\n",
       "      <th>Closed Date</th>\n",
       "      <th>Agency</th>\n",
       "      <th>Agency Name</th>\n",
       "      <th>Complaint Type</th>\n",
       "      <th>Descriptor</th>\n",
       "      <th>Location Type</th>\n",
       "      <th>Incident Zip</th>\n",
       "      <th>Incident Address</th>\n",
       "      <th>...</th>\n",
       "      <th>Bridge Highway Name</th>\n",
       "      <th>Bridge Highway Direction</th>\n",
       "      <th>Road Ramp</th>\n",
       "      <th>Bridge Highway Segment</th>\n",
       "      <th>Garage Lot Name</th>\n",
       "      <th>Ferry Direction</th>\n",
       "      <th>Ferry Terminal Name</th>\n",
       "      <th>Latitude</th>\n",
       "      <th>Longitude</th>\n",
       "      <th>Location</th>\n",
       "    </tr>\n",
       "  </thead>\n",
       "  <tbody>\n",
       "  </tbody>\n",
       "</table>\n",
       "<p>0 rows × 53 columns</p>\n",
       "</div>"
      ],
      "text/plain": [
       "Empty DataFrame\n",
       "Columns: [Unique Key, Created Date, Closed Date, Agency, Agency Name, Complaint Type, Descriptor, Location Type, Incident Zip, Incident Address, Street Name, Cross Street 1, Cross Street 2, Intersection Street 1, Intersection Street 2, Address Type, City, Landmark, Facility Type, Status, Due Date, Resolution Description, Resolution Action Updated Date, Community Board, Borough, X Coordinate (State Plane), Y Coordinate (State Plane), Park Facility Name, Park Borough, School Name, School Number, School Region, School Code, School Phone Number, School Address, School City, School State, School Zip, School Not Found, School or Citywide Complaint, Vehicle Type, Taxi Company Borough, Taxi Pick Up Location, Bridge Highway Name, Bridge Highway Direction, Road Ramp, Bridge Highway Segment, Garage Lot Name, Ferry Direction, Ferry Terminal Name, Latitude, Longitude, Location]\n",
       "Index: []\n",
       "\n",
       "[0 rows x 53 columns]"
      ]
     },
     "execution_count": 37,
     "metadata": {},
     "output_type": "execute_result"
    }
   ],
   "source": [
    "csr_1[csr_1['City'].isna()]"
   ]
  },
  {
   "cell_type": "code",
   "execution_count": 38,
   "id": "ddd06343",
   "metadata": {
    "execution": {
     "iopub.execute_input": "2023-02-06T12:01:10.986627Z",
     "iopub.status.busy": "2023-02-06T12:01:10.986202Z",
     "iopub.status.idle": "2023-02-06T12:01:11.921028Z",
     "shell.execute_reply": "2023-02-06T12:01:11.919952Z"
    },
    "papermill": {
     "duration": 0.957908,
     "end_time": "2023-02-06T12:01:11.923619",
     "exception": false,
     "start_time": "2023-02-06T12:01:10.965711",
     "status": "completed"
    },
    "tags": []
   },
   "outputs": [
    {
     "data": {
      "text/plain": [
       "(array([257741.,  16180.,  13762.,  37085.,  10873.,  13336.,   6433.,\n",
       "          4733.,    725.,   1309.]),\n",
       " array([ 0. ,  5.3, 10.6, 15.9, 21.2, 26.5, 31.8, 37.1, 42.4, 47.7, 53. ]),\n",
       " <BarContainer object of 10 artists>)"
      ]
     },
     "execution_count": 38,
     "metadata": {},
     "output_type": "execute_result"
    },
    {
     "data": {
      "image/png": "[encoded data removed]",
      "text/plain": [
       "<Figure size 2160x1080 with 1 Axes>"
      ]
     },
     "metadata": {
      "needs_background": "light"
     },
     "output_type": "display_data"
    }
   ],
   "source": [
    "fig = plt.figure(figsize=(30,15))\n",
    "plt.hist(csr_1['City'])\n"
   ]
  },
  {
   "cell_type": "code",
   "execution_count": 39,
   "id": "da002f11",
   "metadata": {
    "execution": {
     "iopub.execute_input": "2023-02-06T12:01:11.962744Z",
     "iopub.status.busy": "2023-02-06T12:01:11.962341Z",
     "iopub.status.idle": "2023-02-06T12:01:12.146535Z",
     "shell.execute_reply": "2023-02-06T12:01:12.145369Z"
    },
    "papermill": {
     "duration": 0.206632,
     "end_time": "2023-02-06T12:01:12.149388",
     "exception": false,
     "start_time": "2023-02-06T12:01:11.942756",
     "status": "completed"
    },
    "tags": []
   },
   "outputs": [
    {
     "data": {
      "text/plain": [
       "(array([0. , 0.2, 0.4, 0.6, 0.8, 1. ]),\n",
       " [Text(0, 0, ''),\n",
       "  Text(0, 0, ''),\n",
       "  Text(0, 0, ''),\n",
       "  Text(0, 0, ''),\n",
       "  Text(0, 0, ''),\n",
       "  Text(0, 0, '')])"
      ]
     },
     "execution_count": 39,
     "metadata": {},
     "output_type": "execute_result"
    },
    {
     "data": {
      "image/png": "[encoded data removed]",
      "text/plain": [
       "<Figure size 432x288 with 1 Axes>"
      ]
     },
     "metadata": {
      "needs_background": "light"
     },
     "output_type": "display_data"
    }
   ],
   "source": [
    "plt.xticks()"
   ]
  }
 ],
 "metadata": {
  "kernelspec": {
   "display_name": "Python 3",
   "language": "python",
   "name": "python3"
  },
  "language_info": {
   "codemirror_mode": {
    "name": "ipython",
    "version": 3
   },
   "file_extension": ".py",
   "mimetype": "text/x-python",
   "name": "python",
   "nbconvert_exporter": "python",
   "pygments_lexer": "ipython3",
   "version": "3.7.12"
  },
  "papermill": {
   "default_parameters": {},
   "duration": 211.794396,
   "end_time": "2023-02-06T12:01:13.092561",
   "environment_variables": {},
   "exception": null,
   "input_path": "__notebook__.ipynb",
   "output_path": "__notebook__.ipynb",
   "parameters": {},
   "start_time": "2023-02-06T11:57:41.298165",
   "version": "2.3.4"
  }
 },
 "nbformat": 4,
 "nbformat_minor": 5
}
